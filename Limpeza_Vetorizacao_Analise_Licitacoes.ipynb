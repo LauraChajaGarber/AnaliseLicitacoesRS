{
 "cells": [
  {
   "cell_type": "code",
   "execution_count": 33,
   "id": "b34a3cc8",
   "metadata": {},
   "outputs": [
    {
     "name": "stderr",
     "output_type": "stream",
     "text": [
      "[nltk_data] Downloading package wordnet to\n",
      "[nltk_data]     C:\\Users\\012457631\\AppData\\Roaming\\nltk_data...\n",
      "[nltk_data]   Package wordnet is already up-to-date!\n",
      "[nltk_data] Downloading package punkt to\n",
      "[nltk_data]     C:\\Users\\012457631\\AppData\\Roaming\\nltk_data...\n",
      "[nltk_data]   Package punkt is already up-to-date!\n",
      "[nltk_data] Downloading package stopwords to\n",
      "[nltk_data]     C:\\Users\\012457631\\AppData\\Roaming\\nltk_data...\n",
      "[nltk_data]   Package stopwords is already up-to-date!\n"
     ]
    }
   ],
   "source": [
    "#Importando as bibliotecas que possivelmente seráo usadas\n",
    "import re\n",
    "import numpy as np\n",
    "import pandas as pd\n",
    "import seaborn as sns\n",
    "import math\n",
    "from pprint import pprint\n",
    "import unicodedata\n",
    "\n",
    "# Importando a library Natural Language Toolkit - NLTK para tratamento de linguagem natural.\n",
    "import nltk\n",
    "nltk.download('wordnet')\n",
    "nltk.download('punkt')\n",
    "from sklearn.feature_extraction.text import CountVectorizer\n",
    "from sklearn.feature_extraction.text import TfidfVectorizer\n",
    "from sklearn.feature_extraction.text import TfidfTransformer\n",
    "from sklearn.cluster import KMeans\n",
    "\n",
    "\n",
    "#Importando as stopwords\n",
    "from nltk.corpus import stopwords\n",
    "nltk.download('stopwords')# Download das stopworks do NLTK\n",
    "language = 'portuguese'\n",
    "stopwords = stopwords.words(language)\n",
    "stopwords = list(set(stopwords))\n",
    "\n",
    "#Gensim\n",
    "import gensim\n",
    "import gensim.corpora as corpora\n",
    "from gensim.utils import simple_preprocess\n",
    "from gensim.models import CoherenceModel\n",
    "from gensim.models.hdpmodel import HdpModel\n",
    "from gensim.models.doc2vec import Doc2Vec, TaggedDocument\n",
    "\n",
    "#Plotagem\n",
    "import spacy\n",
    "import matplotlib.pyplot as plt\n",
    "import matplotlib.colors as mcolors\n",
    "from wordcloud import WordCloud, STOPWORDS\n",
    "%matplotlib inline\n",
    "\n",
    "import logging\n",
    "logging.basicConfig(format='%(asctime)s : %(levelname)s : %(message)s', level=logging.ERROR)\n",
    "\n",
    "import warnings\n",
    "warnings.filterwarnings(\"ignore\",category=DeprecationWarning)\n",
    "from tqdm import tqdm"
   ]
  },
  {
   "cell_type": "code",
   "execution_count": 2,
   "id": "014528de",
   "metadata": {},
   "outputs": [
    {
     "data": {
      "text/html": [
       "<div>\n",
       "<style scoped>\n",
       "    .dataframe tbody tr th:only-of-type {\n",
       "        vertical-align: middle;\n",
       "    }\n",
       "\n",
       "    .dataframe tbody tr th {\n",
       "        vertical-align: top;\n",
       "    }\n",
       "\n",
       "    .dataframe thead th {\n",
       "        text-align: right;\n",
       "    }\n",
       "</style>\n",
       "<table border=\"1\" class=\"dataframe\">\n",
       "  <thead>\n",
       "    <tr style=\"text-align: right;\">\n",
       "      <th></th>\n",
       "      <th>CD_ORGAO</th>\n",
       "      <th>NM_ORGAO</th>\n",
       "      <th>NR_LICITACAO</th>\n",
       "      <th>ANO_LICITACAO</th>\n",
       "      <th>CD_TIPO_MODALIDADE</th>\n",
       "      <th>NR_COMISSAO</th>\n",
       "      <th>ANO_COMISSAO</th>\n",
       "      <th>TP_COMISSAO</th>\n",
       "      <th>NR_PROCESSO</th>\n",
       "      <th>ANO_PROCESSO</th>\n",
       "      <th>...</th>\n",
       "      <th>TP_DOCUMENTO_VENCEDOR</th>\n",
       "      <th>NR_DOCUMENTO_VENCEDOR</th>\n",
       "      <th>VL_HOMOLOGADO</th>\n",
       "      <th>BL_GERA_DESPESA</th>\n",
       "      <th>DS_OBSERVACAO</th>\n",
       "      <th>PC_TX_ESTIMADA</th>\n",
       "      <th>PC_TX_HOMOLOGADA</th>\n",
       "      <th>BL_COMPARTILHADA</th>\n",
       "      <th>BL_COVID19</th>\n",
       "      <th>LINK_LICITACON_CIDADAO</th>\n",
       "    </tr>\n",
       "  </thead>\n",
       "  <tbody>\n",
       "    <tr>\n",
       "      <th>0</th>\n",
       "      <td>53100</td>\n",
       "      <td>PM DE NOVA PALMA</td>\n",
       "      <td>1</td>\n",
       "      <td>2021</td>\n",
       "      <td>TMP</td>\n",
       "      <td>6679.0</td>\n",
       "      <td>2018.0</td>\n",
       "      <td>P</td>\n",
       "      <td>30.0</td>\n",
       "      <td>2021</td>\n",
       "      <td>...</td>\n",
       "      <td>J</td>\n",
       "      <td>9.616070e+12</td>\n",
       "      <td>23734057.0</td>\n",
       "      <td>S</td>\n",
       "      <td>NaN</td>\n",
       "      <td>NaN</td>\n",
       "      <td>NaN</td>\n",
       "      <td>N</td>\n",
       "      <td>N</td>\n",
       "      <td>http://www1.tce.rs.gov.br/aplicprod/f?p=50500:...</td>\n",
       "    </tr>\n",
       "    <tr>\n",
       "      <th>1</th>\n",
       "      <td>86800</td>\n",
       "      <td>PM DE BOA VISTA DO SUL</td>\n",
       "      <td>2</td>\n",
       "      <td>2021</td>\n",
       "      <td>PRP</td>\n",
       "      <td>13.0</td>\n",
       "      <td>2021.0</td>\n",
       "      <td>G</td>\n",
       "      <td>6.0</td>\n",
       "      <td>2021</td>\n",
       "      <td>...</td>\n",
       "      <td>J</td>\n",
       "      <td>2.934210e+12</td>\n",
       "      <td>39000000.0</td>\n",
       "      <td>S</td>\n",
       "      <td>NaN</td>\n",
       "      <td>NaN</td>\n",
       "      <td>NaN</td>\n",
       "      <td>N</td>\n",
       "      <td>N</td>\n",
       "      <td>http://www1.tce.rs.gov.br/aplicprod/f?p=50500:...</td>\n",
       "    </tr>\n",
       "  </tbody>\n",
       "</table>\n",
       "<p>2 rows × 64 columns</p>\n",
       "</div>"
      ],
      "text/plain": [
       "   CD_ORGAO                NM_ORGAO  NR_LICITACAO  ANO_LICITACAO  \\\n",
       "0     53100        PM DE NOVA PALMA             1           2021   \n",
       "1     86800  PM DE BOA VISTA DO SUL             2           2021   \n",
       "\n",
       "  CD_TIPO_MODALIDADE  NR_COMISSAO  ANO_COMISSAO TP_COMISSAO  NR_PROCESSO  \\\n",
       "0                TMP       6679.0        2018.0           P         30.0   \n",
       "1                PRP         13.0        2021.0           G          6.0   \n",
       "\n",
       "   ANO_PROCESSO  ... TP_DOCUMENTO_VENCEDOR NR_DOCUMENTO_VENCEDOR  \\\n",
       "0          2021  ...                     J          9.616070e+12   \n",
       "1          2021  ...                     J          2.934210e+12   \n",
       "\n",
       "  VL_HOMOLOGADO BL_GERA_DESPESA DS_OBSERVACAO PC_TX_ESTIMADA PC_TX_HOMOLOGADA  \\\n",
       "0    23734057.0               S           NaN            NaN              NaN   \n",
       "1    39000000.0               S           NaN            NaN              NaN   \n",
       "\n",
       "  BL_COMPARTILHADA BL_COVID19  \\\n",
       "0                N          N   \n",
       "1                N          N   \n",
       "\n",
       "                              LINK_LICITACON_CIDADAO  \n",
       "0  http://www1.tce.rs.gov.br/aplicprod/f?p=50500:...  \n",
       "1  http://www1.tce.rs.gov.br/aplicprod/f?p=50500:...  \n",
       "\n",
       "[2 rows x 64 columns]"
      ]
     },
     "execution_count": 2,
     "metadata": {},
     "output_type": "execute_result"
    }
   ],
   "source": [
    "#Importação da base licitação\n",
    "licitacoes = pd.read_excel('C:/Users/012457631/Documents/AnaliseLicitacoes/LICITACOES.xlsx')\n",
    "#Visualização das colunas da base licitação\n",
    "licitacoes.head(2)"
   ]
  },
  {
   "cell_type": "code",
   "execution_count": 3,
   "id": "d75a281e",
   "metadata": {},
   "outputs": [],
   "source": [
    "#Reduzir escolhendo as colunas da base licitação a serem trabalhadas\n",
    "licitacoes_valores=licitacoes[['NM_ORGAO', 'NR_LICITACAO', 'DIAS_DE_ESPERA','DT_HOMOLOGACAO', 'NR_PROCESSO', 'TP_OBJETO', 'TP_LICITACAO', 'DS_OBJETO', 'VL_LICITACAO', 'VL_HOMOLOGADO','BL_COVID19']]"
   ]
  },
  {
   "cell_type": "code",
   "execution_count": 4,
   "id": "188b4df2",
   "metadata": {},
   "outputs": [
    {
     "data": {
      "text/plain": [
       "<AxesSubplot:>"
      ]
     },
     "execution_count": 4,
     "metadata": {},
     "output_type": "execute_result"
    },
    {
     "data": {
      "image/png": "[encoded data removed]",
      "text/plain": [
       "<Figure size 432x288 with 1 Axes>"
      ]
     },
     "metadata": {
      "needs_background": "light"
     },
     "output_type": "display_data"
    }
   ],
   "source": [
    "#Verificação de valores vazios\n",
    "sns.heatmap(licitacoes_valores.isnull(),yticklabels=False,cbar=False,cmap='viridis')"
   ]
  },
  {
   "cell_type": "code",
   "execution_count": 5,
   "id": "fa1b01a9",
   "metadata": {},
   "outputs": [
    {
     "data": {
      "text/plain": [
       "<AxesSubplot:>"
      ]
     },
     "execution_count": 5,
     "metadata": {},
     "output_type": "execute_result"
    },
    {
     "data": {
      "image/png": "[encoded data removed]",
      "text/plain": [
       "<Figure size 432x288 with 1 Axes>"
      ]
     },
     "metadata": {
      "needs_background": "light"
     },
     "output_type": "display_data"
    }
   ],
   "source": [
    "#Retirada dos vazios da base licitação\n",
    "licitacoes_valores = licitacoes_valores.dropna()\n",
    "#Verificação de valores vazios\n",
    "sns.heatmap(licitacoes_valores.isnull(),yticklabels=False,cbar=False,cmap='viridis')"
   ]
  },
  {
   "cell_type": "code",
   "execution_count": 6,
   "id": "d5eebf5d",
   "metadata": {},
   "outputs": [
    {
     "data": {
      "text/html": [
       "<div>\n",
       "<style scoped>\n",
       "    .dataframe tbody tr th:only-of-type {\n",
       "        vertical-align: middle;\n",
       "    }\n",
       "\n",
       "    .dataframe tbody tr th {\n",
       "        vertical-align: top;\n",
       "    }\n",
       "\n",
       "    .dataframe thead th {\n",
       "        text-align: right;\n",
       "    }\n",
       "</style>\n",
       "<table border=\"1\" class=\"dataframe\">\n",
       "  <thead>\n",
       "    <tr style=\"text-align: right;\">\n",
       "      <th></th>\n",
       "      <th>NR_LICITACAO</th>\n",
       "      <th>DIAS_DE_ESPERA</th>\n",
       "      <th>NR_PROCESSO</th>\n",
       "      <th>VL_LICITACAO</th>\n",
       "      <th>VL_HOMOLOGADO</th>\n",
       "    </tr>\n",
       "  </thead>\n",
       "  <tbody>\n",
       "    <tr>\n",
       "      <th>count</th>\n",
       "      <td>1.601500e+04</td>\n",
       "      <td>16015.000000</td>\n",
       "      <td>1.601500e+04</td>\n",
       "      <td>1.601500e+04</td>\n",
       "      <td>1.601500e+04</td>\n",
       "    </tr>\n",
       "    <tr>\n",
       "      <th>mean</th>\n",
       "      <td>6.172556e+10</td>\n",
       "      <td>10.041024</td>\n",
       "      <td>5.298510e+13</td>\n",
       "      <td>5.096664e+07</td>\n",
       "      <td>7.937284e+07</td>\n",
       "    </tr>\n",
       "    <tr>\n",
       "      <th>std</th>\n",
       "      <td>7.811331e+12</td>\n",
       "      <td>14.145359</td>\n",
       "      <td>6.556648e+14</td>\n",
       "      <td>5.767842e+08</td>\n",
       "      <td>3.932903e+09</td>\n",
       "    </tr>\n",
       "    <tr>\n",
       "      <th>min</th>\n",
       "      <td>1.000000e+00</td>\n",
       "      <td>0.000000</td>\n",
       "      <td>0.000000e+00</td>\n",
       "      <td>0.000000e+00</td>\n",
       "      <td>-5.947200e+06</td>\n",
       "    </tr>\n",
       "    <tr>\n",
       "      <th>25%</th>\n",
       "      <td>7.000000e+00</td>\n",
       "      <td>0.000000</td>\n",
       "      <td>5.800000e+01</td>\n",
       "      <td>2.494275e+06</td>\n",
       "      <td>1.671040e+06</td>\n",
       "    </tr>\n",
       "    <tr>\n",
       "      <th>50%</th>\n",
       "      <td>2.100000e+01</td>\n",
       "      <td>5.000000</td>\n",
       "      <td>2.030000e+02</td>\n",
       "      <td>9.180000e+06</td>\n",
       "      <td>6.865500e+06</td>\n",
       "    </tr>\n",
       "    <tr>\n",
       "      <th>75%</th>\n",
       "      <td>5.800000e+01</td>\n",
       "      <td>13.000000</td>\n",
       "      <td>1.200000e+03</td>\n",
       "      <td>3.096427e+07</td>\n",
       "      <td>2.464248e+07</td>\n",
       "    </tr>\n",
       "    <tr>\n",
       "      <th>max</th>\n",
       "      <td>9.885270e+14</td>\n",
       "      <td>99.000000</td>\n",
       "      <td>8.202170e+15</td>\n",
       "      <td>6.750000e+10</td>\n",
       "      <td>3.719190e+11</td>\n",
       "    </tr>\n",
       "  </tbody>\n",
       "</table>\n",
       "</div>"
      ],
      "text/plain": [
       "       NR_LICITACAO  DIAS_DE_ESPERA   NR_PROCESSO  VL_LICITACAO  VL_HOMOLOGADO\n",
       "count  1.601500e+04    16015.000000  1.601500e+04  1.601500e+04   1.601500e+04\n",
       "mean   6.172556e+10       10.041024  5.298510e+13  5.096664e+07   7.937284e+07\n",
       "std    7.811331e+12       14.145359  6.556648e+14  5.767842e+08   3.932903e+09\n",
       "min    1.000000e+00        0.000000  0.000000e+00  0.000000e+00  -5.947200e+06\n",
       "25%    7.000000e+00        0.000000  5.800000e+01  2.494275e+06   1.671040e+06\n",
       "50%    2.100000e+01        5.000000  2.030000e+02  9.180000e+06   6.865500e+06\n",
       "75%    5.800000e+01       13.000000  1.200000e+03  3.096427e+07   2.464248e+07\n",
       "max    9.885270e+14       99.000000  8.202170e+15  6.750000e+10   3.719190e+11"
      ]
     },
     "execution_count": 6,
     "metadata": {},
     "output_type": "execute_result"
    }
   ],
   "source": [
    "#Dados descritivos\n",
    "licitacoes_valores.describe()"
   ]
  },
  {
   "cell_type": "code",
   "execution_count": 7,
   "id": "2d0209c1",
   "metadata": {},
   "outputs": [],
   "source": [
    "#Agrupando por órgão\n",
    "licitacoes_valores.groupby('NM_ORGAO')\n",
    "#Salvando como uma nova variavel\n",
    "por_orgao = licitacoes_valores.groupby(\"NM_ORGAO\")"
   ]
  },
  {
   "cell_type": "code",
   "execution_count": 8,
   "id": "f25bdc20",
   "metadata": {},
   "outputs": [
    {
     "data": {
      "text/html": [
       "<div>\n",
       "<style scoped>\n",
       "    .dataframe tbody tr th:only-of-type {\n",
       "        vertical-align: middle;\n",
       "    }\n",
       "\n",
       "    .dataframe tbody tr th {\n",
       "        vertical-align: top;\n",
       "    }\n",
       "\n",
       "    .dataframe thead th {\n",
       "        text-align: right;\n",
       "    }\n",
       "</style>\n",
       "<table border=\"1\" class=\"dataframe\">\n",
       "  <thead>\n",
       "    <tr style=\"text-align: right;\">\n",
       "      <th></th>\n",
       "      <th>NM_ORGAO</th>\n",
       "      <th>NR_LICITACAO</th>\n",
       "      <th>DIAS_DE_ESPERA</th>\n",
       "      <th>DT_HOMOLOGACAO</th>\n",
       "      <th>NR_PROCESSO</th>\n",
       "      <th>TP_OBJETO</th>\n",
       "      <th>TP_LICITACAO</th>\n",
       "      <th>DS_OBJETO</th>\n",
       "      <th>VL_LICITACAO</th>\n",
       "      <th>VL_HOMOLOGADO</th>\n",
       "      <th>BL_COVID19</th>\n",
       "    </tr>\n",
       "  </thead>\n",
       "  <tbody>\n",
       "    <tr>\n",
       "      <th>29217</th>\n",
       "      <td>PM DE CRUZ ALTA</td>\n",
       "      <td>63</td>\n",
       "      <td>38</td>\n",
       "      <td>2021-06-08</td>\n",
       "      <td>63.0</td>\n",
       "      <td>CSE</td>\n",
       "      <td>MPR</td>\n",
       "      <td>AQUISIÇÃO DE GENEROS ALIMENTICIOS PARA SER UTI...</td>\n",
       "      <td>45480908.0</td>\n",
       "      <td>3.719190e+11</td>\n",
       "      <td>N</td>\n",
       "    </tr>\n",
       "  </tbody>\n",
       "</table>\n",
       "</div>"
      ],
      "text/plain": [
       "              NM_ORGAO  NR_LICITACAO  DIAS_DE_ESPERA DT_HOMOLOGACAO  \\\n",
       "29217  PM DE CRUZ ALTA            63              38     2021-06-08   \n",
       "\n",
       "       NR_PROCESSO TP_OBJETO TP_LICITACAO  \\\n",
       "29217         63.0       CSE          MPR   \n",
       "\n",
       "                                               DS_OBJETO  VL_LICITACAO  \\\n",
       "29217  AQUISIÇÃO DE GENEROS ALIMENTICIOS PARA SER UTI...    45480908.0   \n",
       "\n",
       "       VL_HOMOLOGADO BL_COVID19  \n",
       "29217   3.719190e+11          N  "
      ]
     },
     "execution_count": 8,
     "metadata": {},
     "output_type": "execute_result"
    }
   ],
   "source": [
    "#Licitaçao de maior valor da base\n",
    "licitacoes_valores[licitacoes_valores['VL_HOMOLOGADO']== licitacoes_valores['VL_HOMOLOGADO'].max()]\n",
    "#O orgão que recebeu a licitação de maior valor homologado foi PM DE CRUZ ALTA"
   ]
  },
  {
   "cell_type": "code",
   "execution_count": 10,
   "id": "0e4e8298",
   "metadata": {},
   "outputs": [
    {
     "name": "stderr",
     "output_type": "stream",
     "text": [
      "[nltk_data] Downloading package stopwords to\n",
      "[nltk_data]     C:\\Users\\012457631\\AppData\\Roaming\\nltk_data...\n",
      "[nltk_data]   Package stopwords is already up-to-date!\n"
     ]
    }
   ],
   "source": [
    "#Utilizando StopWords para reduzir e limpar os textos\n",
    "nlp = spacy.load(\"pt_core_news_sm\") # Uso do core do Spacy\n",
    "\n",
    "nltk.download('stopwords') # Download das stopworks do NLTK\n",
    "stopwords = nltk.corpus.stopwords.words('portuguese') # Carregamento das stopwords em português\n",
    "\n",
    "# Caracteres especiais a serem deletados. Sendo unidades de medida e símbolos especiais que não agregam valor a análise\n",
    "filter_out = stopwords + ['kg', 'm', 'cm', 'mm', 'mg', 'ml', 'm²', '-', '+', '=', 'mcg', 'nº', 'g', 'ª', 'º','ja','viu','vai','ne','ai','ta','gente','nao','aqui','tambem','vc','voce','entao','ate','agora','ser','sempre','ter','so','porque','sobre','ainda','la','tudo','ninguem','de','do','da','para','pra']\n",
    "\n",
    "# Função de tratamento\n",
    "def processing_tokenization(sentence):\n",
    "    sentence = sentence.lower() # Caixa baixa\n",
    "    sentence = re.sub(r\"[^\\w\\s]\", \"\",sentence) # Exclusão de caracteres especiais\n",
    "    sentence = re.sub(\"[0-9]+\",\"\", sentence) # Exclusão de dígitos\n",
    "    sentence = re.sub(\"/+\",\"\", sentence) # Exclusão de \"/\"\n",
    "    sentence = re.sub(' +', ' ', sentence) # Exclusão de espaçamentos repetitivos entre as frases\n",
    "\n",
    "    doc=nlp(sentence) # Tokenização\n",
    "\n",
    "    tokens=[token.text for token in doc]\n",
    "    tokens=[token for token in tokens if token not in filter_out] # Filtragem adicional com os caracteres em filter_out\n",
    "\n",
    "    return tokens"
   ]
  },
  {
   "cell_type": "code",
   "execution_count": 11,
   "id": "741f255d",
   "metadata": {},
   "outputs": [],
   "source": [
    "# Aplicação do tratamento na lista de licitações e salvando os dados\n",
    "licitacoes_valores['DS_OBJETO_TRATADO'] = licitacoes_valores['DS_OBJETO'].apply(lambda x: processing_tokenization(x))\n",
    "#Passando para a base a coluna tratada\n",
    "licitacoes_valores.to_csv(('C:/Users/012457631/Documents/Cursos_Resumos/Python/licitacoes_valores_tratados3.csv'))"
   ]
  },
  {
   "cell_type": "code",
   "execution_count": 12,
   "id": "c5900759",
   "metadata": {},
   "outputs": [],
   "source": [
    "#licitacoes_valores.head(3)"
   ]
  },
  {
   "cell_type": "code",
   "execution_count": 13,
   "id": "3807686e",
   "metadata": {},
   "outputs": [
    {
     "name": "stdout",
     "output_type": "stream",
     "text": [
      "16345\n"
     ]
    }
   ],
   "source": [
    "# Aplicando a função na DS_OBJEO, countvectorizer faz a frequencia normal\n",
    "bow_transformer = CountVectorizer(analyzer=processing_tokenization).fit(licitacoes_valores['DS_OBJETO'])\n",
    "# Mostrando o tamanho do vocabulário\n",
    "print(len(bow_transformer.vocabulary_))"
   ]
  },
  {
   "cell_type": "code",
   "execution_count": 14,
   "id": "c3f0cd08",
   "metadata": {},
   "outputs": [],
   "source": [
    "#Vetorização pela frequencia normal\n",
    "messages_bow = bow_transformer.transform(licitacoes_valores['DS_OBJETO'])"
   ]
  },
  {
   "cell_type": "code",
   "execution_count": 15,
   "id": "cf73cf9b",
   "metadata": {},
   "outputs": [
    {
     "name": "stderr",
     "output_type": "stream",
     "text": [
      "100%|██████████████████████████████████████████████████████████████████████████████████| 15/15 [03:07<00:00, 12.48s/it]\n"
     ]
    },
    {
     "data": {
      "image/png": "[encoded data removed]",
      "text/plain": [
       "<Figure size 432x288 with 1 Axes>"
      ]
     },
     "metadata": {
      "needs_background": "light"
     },
     "output_type": "display_data"
    }
   ],
   "source": [
    "#O primeiro modelo a ser analisado é o Kmeans pois podemos ver a quantidade \"razoavel\" de clusters graficamente\n",
    "import warnings\n",
    "warnings.filterwarnings('ignore')\n",
    "\n",
    "wcss = []\n",
    "minimo=2\n",
    "maximo=45\n",
    "step=3\n",
    "\n",
    "for n in tqdm(range(minimo, maximo, step)):\n",
    "    kmeans_model = KMeans(n_clusters=n, init='k-means++', max_iter=500, n_jobs=-1, algorithm='full', precompute_distances=True)\n",
    "    kmeans_model.fit(messages_bow)\n",
    "    wcss.append(kmeans_model.inertia_)\n",
    "\n",
    "# Show graph\n",
    "x = range(minimo, maximo, step)\n",
    "\n",
    "plt.plot(x, wcss)\n",
    "plt.xlabel(\"Num Topic\")\n",
    "plt.ylabel(\"Soma dos quadrados intracluster\")\n",
    "plt.show()"
   ]
  },
  {
   "cell_type": "code",
   "execution_count": 16,
   "id": "ba6612e3",
   "metadata": {},
   "outputs": [],
   "source": [
    "kmeans_model = KMeans(n_clusters=20, init='k-means++', verbose=0, n_jobs=-1, algorithm='full', precompute_distances=True, tol=1e-9, max_iter=500)\n",
    "X = kmeans_model.fit(messages_bow)\n",
    "labels=kmeans_model.labels_.tolist()\n",
    "licitacoes_valores['Topicos_kmeans'] = labels\n",
    "licitacoes_valores.to_csv(('C:/Users/012457631/Documents/Cursos_Resumos/Python/licitacoes_valores_kmeans_27.csv'))"
   ]
  },
  {
   "cell_type": "code",
   "execution_count": 17,
   "id": "85fa6a46",
   "metadata": {},
   "outputs": [
    {
     "data": {
      "text/plain": [
       "LatentDirichletAllocation(n_components=27, random_state=42)"
      ]
     },
     "execution_count": 17,
     "metadata": {},
     "output_type": "execute_result"
    }
   ],
   "source": [
    "#Utilizando o modelo LDA para gerar os tópicos\n",
    "from sklearn.decomposition import LatentDirichletAllocation\n",
    "LDA = LatentDirichletAllocation(n_components=27,random_state=42)\n",
    "LDA.fit(messages_bow)"
   ]
  },
  {
   "cell_type": "code",
   "execution_count": 18,
   "id": "3d755c16",
   "metadata": {},
   "outputs": [
    {
     "name": "stdout",
     "output_type": "stream",
     "text": [
      "THE TOP 15 WORDS FOR TOPIC #0\n",
      "['distribuição', 'exclusividade', 'ferro', 'meepp', 'rs', 'computadores', 'instalação', 'abastecimento', 'materiais', 'interior', 'redes', 'rede', 'município', 'água', 'aquisição']\n",
      "\n",
      "\n",
      "THE TOP 15 WORDS FOR TOPIC #1\n",
      "['dispensa', 'ltda', 'contratada', 'reais', 'serviços', 'processo', 'cnpj', 'natal', 'total', 'sendo', 'mil', 'r', 'valor', 'contratação', 'empresa']\n",
      "\n",
      "\n",
      "THE TOP 15 WORDS FOR TOPIC #2\n",
      "['retroescavadeira', 'máquina', 'modelo', 'veículo', 'imediata', 'manutenção', 'motoniveladora', 'entrega', 'escavadeira', 'hidráulica', 'condicionado', 'ano', 'ar', 'peças', 'aquisição']\n",
      "\n",
      "\n",
      "THE TOP 15 WORDS FOR TOPIC #3\n",
      "['ano', 'limpeza', 'veículo', 'emenda', 'alegriars', 'obras', 'brita', 'desporto', 'saúde', 'município', 'cultura', 'educação', 'aquisição', 'municipal', 'secretaria']\n",
      "\n",
      "\n",
      "THE TOP 15 WORDS FOR TOPIC #4\n",
      "['preço', 'conforme', 'execução', 'regime', 'material', 'reforma', 'empreitada', 'global', 'escola', 'fornecimento', 'municipal', 'empresa', 'contratação', 'mão', 'obra']\n",
      "\n",
      "\n",
      "THE TOP 15 WORDS FOR TOPIC #5\n",
      "['peças', 'agricultura', 'novos', 'município', 'caminhão', 'manutenção', 'obras', 'serviços', 'máquinas', 'frota', 'pneus', 'municipal', 'secretaria', 'aquisição', 'veículos']\n",
      "\n",
      "\n",
      "THE TOP 15 WORDS FOR TOPIC #6\n",
      "['jornal', 'municipal', 'cartão', 'secretaria', 'saúde', 'visando', 'combustíveis', 'gerenciamento', 'gabinete', 'uso', 'contratação', 'equipamentos', 'município', 'veículos', 'aquisição']\n",
      "\n",
      "\n",
      "THE TOP 15 WORDS FOR TOPIC #7\n",
      "['rural', 'manutenção', 'tubos', 'município', 'merenda', 'iluminação', 'concreto', 'pública', 'agricultura', 'alimentação', 'familiar', 'escolar', 'gêneros', 'alimentícios', 'aquisição']\n",
      "\n",
      "\n",
      "THE TOP 15 WORDS FOR TOPIC #8\n",
      "['nova', 'estado', 'processo', 'pa', 'solicitação', 'município', 'rio', 'rs', 'grande', 'através', 'fraldas', 'conforme', 'sul', 'aquisição', 'n']\n",
      "\n",
      "\n",
      "THE TOP 15 WORDS FOR TOPIC #9\n",
      "['banda', 'link', 'instalação', 'alegre', 'manutenção', 'sme', 'rede', 'fibra', 'emef', 'internet', 'empresa', 'porto', 'serviço', 'aquisição', 'contratação']\n",
      "\n",
      "\n",
      "THE TOP 15 WORDS FOR TOPIC #10\n",
      "['sistema', 'através', 'especificações', 'aquisição', 'preço', 'presencial', 'pregão', 'i', 'preços', 'registro', 'referência', 'termo', 'anexo', 'edital', 'conforme']\n",
      "\n",
      "\n",
      "THE TOP 15 WORDS FOR TOPIC #11\n",
      "['projeto', 'regime', 'material', 'descritivo', 'memorial', 'conforme', 'município', 'empreitada', 'global', 'obra', 'pavimentação', 'rua', 'empresa', 'contratação', 'execução']\n",
      "\n",
      "\n",
      "THE TOP 15 WORDS FOR TOPIC #12\n",
      "['urbano', 'pedras', 'caixa', 'programa', 'regional', 'operação', 'desenvolvimento', 'município', 'ministério', 'federal', 'repasse', 'recursos', 'jurídica', 'pessoa', 'contrato']\n",
      "\n",
      "\n",
      "THE TOP 15 WORDS FOR TOPIC #13\n",
      "['município', 'tintas', 'instalação', 'trânsito', 'serviços', 'caminhão', 'pintura', 'viária', 'peças', 'aquisição', 'placa', 'conserto', 'fornecimento', 'sinalização', 'placas']\n",
      "\n",
      "\n",
      "THE TOP 15 WORDS FOR TOPIC #14\n",
      "['menor', 'item', 'odontológico', 'pública', 'elétrico', 'preço', 'hospitalar', 'ambiente', 'secretaria', 'informática', 'meio', 'expediente', 'equipamentos', 'aquisição', 'material']\n",
      "\n",
      "\n",
      "THE TOP 15 WORDS FOR TOPIC #15\n",
      "['novo', 'período', 'óleo', 'registro', 'preços', 's', 'básicas', 'cestas', 'diesel', 'zero', 'meses', 'km', 'tipo', 'veículo', 'aquisição']\n",
      "\n",
      "\n",
      "THE TOP 15 WORDS FOR TOPIC #16\n",
      "['municipal', 'entrega', 'serviços', 'contratação', 'processos', 'min', 'processo', 'credenciamento', 'atendimento', 'horário', 'serviço', 'dia', 'envelopes', 'h', 'abertura']\n",
      "\n",
      "\n",
      "THE TOP 15 WORDS FOR TOPIC #17\n",
      "['cobertura', 'instalação', 'execução', 'emef', 'centro', 'ampliação', 'projeto', 'escola', 'obra', 'especializada', 'reforma', 'municipal', 'contratação', 'construção', 'empresa']\n",
      "\n",
      "\n",
      "THE TOP 15 WORDS FOR TOPIC #18\n",
      "['objeto', 'água', 'deste', 'fornecimento', 'meses', 'período', 'aquisição', 'especificações', 'referência', 'i', 'termo', 'condições', 'edital', 'anexo', 'conforme']\n",
      "\n",
      "\n",
      "THE TOP 15 WORDS FOR TOPIC #19\n",
      "['município', 'fundamental', 'alunos', 'atividades', 'infantil', 'manutenção', 'rede', 'educação', 'secretarias', 'materiais', 'ensino', 'municipal', 'escolas', 'municipais', 'aquisição']\n",
      "\n",
      "\n",
      "THE TOP 15 WORDS FOR TOPIC #20\n",
      "['n', 'secretaria', 'ii', 'i', 'móveis', 'aquisicao', 'edital', 'conforme', 'anexo', 'constitui', 'aquisição', 'municipal', 'licitação', 'objeto', 'presente']\n",
      "\n",
      "\n",
      "THE TOP 15 WORDS FOR TOPIC #21\n",
      "['seguro', 'carga', 'geral', 'poço', 'semanais', 'poços', 'linha', 'perfuração', 'serviço', 'município', 'prestação', 'empresa', 'serviços', 'horas', 'contratação']\n",
      "\n",
      "\n",
      "THE TOP 15 WORDS FOR TOPIC #22\n",
      "['realização', 'uniformes', 'atender', 'projeto', 'programa', 'público', 'atividades', 'cras', 'oficinas', 'administração', 'servidores', 'município', 'contratação', 'municipal', 'lei']\n",
      "\n",
      "\n",
      "THE TOP 15 WORDS FOR TOPIC #23\n",
      "['suporte', 'assessoria', 'gestão', 'sistema', 'locação', 'instalação', 'municipal', 'serviço', 'fornecimento', 'manutenção', 'especializada', 'prestação', 'serviços', 'empresa', 'contratação']\n",
      "\n",
      "\n",
      "THE TOP 15 WORDS FOR TOPIC #24\n",
      "['sólidos', 'destinação', 'saúde', 'tratamento', 'serviço', 'final', 'especializada', 'coleta', 'município', 'resíduos', 'transporte', 'prestação', 'empresa', 'serviços', 'contratação']\n",
      "\n",
      "\n",
      "THE TOP 15 WORDS FOR TOPIC #25\n",
      "['aquisições', 'uso', 'limpeza', 'futuras', 'secretarias', 'município', 'material', 'preço', 'medicamentos', 'futura', 'eventual', 'materiais', 'aquisição', 'preços', 'registro']\n",
      "\n",
      "\n",
      "THE TOP 15 WORDS FOR TOPIC #26\n",
      "['municipal', 'subscrito', 'proveniente', 'contratação', 'serviços', 'responsável', 'via', 'memorando', 'anexo', 'área', 'aquisição', 'solicitação', 'conforme', 'secretaria', 'saúde']\n",
      "\n",
      "\n"
     ]
    }
   ],
   "source": [
    "#Função que retorna as 15 palavras mais importantes por tópico\n",
    "for index,topic in enumerate(LDA.components_):\n",
    "    print(f'THE TOP 15 WORDS FOR TOPIC #{index}')\n",
    "    print([bow_transformer.get_feature_names()[i] for i in topic.argsort()[-15:]])\n",
    "    print('\\n')"
   ]
  },
  {
   "cell_type": "code",
   "execution_count": 19,
   "id": "4d790299",
   "metadata": {},
   "outputs": [],
   "source": [
    "topic_results = LDA.transform(messages_bow)\n",
    "licitacoes_valores['Topicos_LDA'] = topic_results.argmax(axis=1)\n",
    "licitacoes_valores.to_csv(('C:/Users/012457631/Documents/Cursos_Resumos/Python/licitacoes_valores__kmeans_LDA_27.csv'))"
   ]
  },
  {
   "cell_type": "code",
   "execution_count": 20,
   "id": "e01e961c",
   "metadata": {},
   "outputs": [
    {
     "data": {
      "text/plain": [
       "NMF(n_components=27, random_state=42)"
      ]
     },
     "execution_count": 20,
     "metadata": {},
     "output_type": "execute_result"
    }
   ],
   "source": [
    "#Utilizano o modelo NMF para uma nova separação de tópicos\n",
    "from sklearn.decomposition import NMF\n",
    "nmf_model = NMF(n_components=27,random_state=42)\n",
    "nmf_model.fit(messages_bow)"
   ]
  },
  {
   "cell_type": "code",
   "execution_count": 21,
   "id": "cf5e4309",
   "metadata": {},
   "outputs": [
    {
     "name": "stdout",
     "output_type": "stream",
     "text": [
      "THE TOP 15 WORDS FOR TOPIC #0\n",
      "['técnica', 'projeto', 'resíduos', 'elaboração', 'instalação', 'prestação', 'realizar', 'reforma', 'realização', 'construção', 'execução', 'fornecimento', 'especializada', 'contratação', 'empresa']\n",
      "\n",
      "\n",
      "THE TOP 15 WORDS FOR TOPIC #1\n",
      "['eventual', 'veículos', 'necessidade', 'entrega', 'despesa', 'preço', 'pregão', 'pneus', 'futura', 'peças', 'gás', 'medicamentos', 'equipamentos', 'uso', 'aquisição']\n",
      "\n",
      "\n",
      "THE TOP 15 WORDS FOR TOPIC #2\n",
      "['administração', 'aquisições', 'contados', 'fornecimento', 'sistema', 'doze', 'ata', 'futuras', 'preço', 'período', 'meses', 'futura', 'eventual', 'preços', 'registro']\n",
      "\n",
      "\n",
      "THE TOP 15 WORDS FOR TOPIC #3\n",
      "['total', 'serviços', 'compra', 'contratação', 'saúde', 'secretaria', 'subscrito', 'proveniente', 'responsável', 'memorando', 'via', 'solicitação', 'anexo', 'conforme', 'área']\n",
      "\n",
      "\n",
      "THE TOP 15 WORDS FOR TOPIC #4\n",
      "['meses', 'constantes', 'fornecimento', 'sistema', 'deste', 'através', 'presencial', 'pregão', 'especificações', 'edital', 'i', 'conforme', 'referência', 'termo', 'anexo']\n",
      "\n",
      "\n",
      "THE TOP 15 WORDS FOR TOPIC #5\n",
      "['abrigo', 'serem', 'visando', 'vereadores', 'pública', 'centro', 'secretaria', 'frota', 'lei', 'câmara', 'rede', 'atender', 'administração', 'prefeitura', 'municipal']\n",
      "\n",
      "\n",
      "THE TOP 15 WORDS FOR TOPIC #6\n",
      "['obras', 'pavimentação', 'cronograma', 'tipo', 'projeto', 'reforma', 'menor', 'descritivo', 'sob', 'memorial', 'preço', 'regime', 'empreitada', 'global', 'execução']\n",
      "\n",
      "\n",
      "THE TOP 15 WORDS FOR TOPIC #7\n",
      "['geral', 'públicos', 'jurídica', 'conserto', 'médicos', 'área', 'consultoria', 'limpeza', 'assessoria', 'transporte', 'técnicos', 'horas', 'contratação', 'prestação', 'serviços']\n",
      "\n",
      "\n",
      "THE TOP 15 WORDS FOR TOPIC #8\n",
      "['transporte', 'esperança', 'diversas', 'convênio', 'ruas', 'linha', 'água', 'alegriars', 'junto', 'sul', 'recursos', 'interior', 'nova', 'rs', 'município']\n",
      "\n",
      "\n",
      "THE TOP 15 WORDS FOR TOPIC #9\n",
      "['placa', 'assistência', 'meio', 'uso', 'agricultura', 'estimativa', 'cartão', 'combustível', 'cultura', 'veículo', 'social', 'veículos', 'educação', 'obras', 'secretaria']\n",
      "\n",
      "\n",
      "THE TOP 15 WORDS FOR TOPIC #10\n",
      "['iluminação', 'treinamento', 'fornecimento', 'predial', 'locação', 'peças', 'pública', 'suporte', 'informática', 'preventiva', 'corretiva', 'quisição', 'equipamentos', 'atividades', 'manutenção']\n",
      "\n",
      "\n",
      "THE TOP 15 WORDS FOR TOPIC #11\n",
      "['repasse', 'cbuq', 'sinalização', 'contrato', 'total', 'concreto', 'bairro', 'execução', 'área', 'asfáltica', 'projeto', 'ruas', 'trecho', 'pavimentação', 'rua']\n",
      "\n",
      "\n",
      "THE TOP 15 WORDS FOR TOPIC #12\n",
      "['pneus', 'diesel', 'ré', 'ano', 'condicionado', 'cabine', 'x', 'tipo', 'capacidade', 'motor', 'ar', 'mínima', 'veículo', 'sistema', 'mínimo']\n",
      "\n",
      "\n",
      "THE TOP 15 WORDS FOR TOPIC #13\n",
      "['cujos', 'constantes', 'qualitativos', 'quantitativos', 'acordo', 'dados', 'constam', 'especificações', 'anexo', 'ii', 'edital', 'constitui', 'licitação', 'objeto', 'presente']\n",
      "\n",
      "\n",
      "THE TOP 15 WORDS FOR TOPIC #14\n",
      "['médicos', 'centro', 'covid', 'final', 'tratamento', 'pacientes', 'básicas', 'medicamentos', 'resíduos', 'secretaria', 'atendimento', 'básica', 'unidade', 'unidades', 'saúde']\n",
      "\n",
      "\n",
      "THE TOP 15 WORDS FOR TOPIC #15\n",
      "['prédios', 'demanda', 'demais', 'públicos', 'memo', 'todas', 'necessidades', 'atender', 'higiene', 'uso', 'limpeza', 'diversas', 'escolas', 'secretarias', 'municipais']\n",
      "\n",
      "\n",
      "THE TOP 15 WORDS FOR TOPIC #16\n",
      "['iluminação', 'diversos', 'centro', 'permanentes', 'serem', 'necessários', 'compra', 'equipamentos', 'elétricos', 'fornecimento', 'higiene', 'expediente', 'limpeza', 'construção', 'materiais']\n",
      "\n",
      "\n",
      "THE TOP 15 WORDS FOR TOPIC #17\n",
      "['pnae', 'atendimento', 'nacional', 'pública', 'empreendedor', 'lei', 'programa', 'rural', 'merenda', 'alimentação', 'agricultura', 'familiar', 'escolar', 'gêneros', 'alimentícios']\n",
      "\n",
      "\n",
      "THE TOP 15 WORDS FOR TOPIC #18\n",
      "['centro', 'despesa', 'hospitalar', 'aquisicao', 'despesas', 'consumo', 'efetuadas', 'serem', 'elétrico', 'permanente', 'construção', 'higiene', 'expediente', 'limpeza', 'material']\n",
      "\n",
      "\n",
      "THE TOP 15 WORDS FOR TOPIC #19\n",
      "['acesso', 'veículo', 'satélite', 'comodato', 'rastreamento', 'veicular', 'máquinas', 'monitoramento', 'instalação', 'software', 'via', 'frota', 'veículos', 'prestação', 'serviço']\n",
      "\n",
      "\n",
      "THE TOP 15 WORDS FOR TOPIC #20\n",
      "['ano', 'orçamentária', 'equipamentos', 'instalação', 'incluindo', 'necessários', 'reforma', 'planilha', 'descritivo', 'memorial', 'conserto', 'peças', 'fornecimento', 'mão', 'obra']\n",
      "\n",
      "\n",
      "THE TOP 15 WORDS FOR TOPIC #21\n",
      "['projetos', 'planilha', 'meses', 'deste', 'entrega', 'cronograma', 'condições', 'projeto', 'constantes', 'descritivo', 'memorial', 'especificações', 'anexos', 'edital', 'conforme']\n",
      "\n",
      "\n",
      "THE TOP 15 WORDS FOR TOPIC #22\n",
      "['massirer', 'contratada', 'dreyer', 'dispensa', 'inscrita', 'processo', 'reais', 'cnpj', 'mil', 'total', 'sendo', 'cpf', 'inscrito', 'valor', 'r']\n",
      "\n",
      "\n",
      "THE TOP 15 WORDS FOR TOPIC #23\n",
      "['brinquedos', 'estudantes', 'localizada', 'ampliação', 'atividades', 'cultura', 'escolar', 'alunos', 'rede', 'escolas', 'infantil', 'fundamental', 'escola', 'educação', 'ensino']\n",
      "\n",
      "\n",
      "THE TOP 15 WORDS FOR TOPIC #24\n",
      "['setores', 'secretarias', 'secretaria', 'diversas', 'tonner', 'aquisição', 'despesa', 'referente', 'refil', 'toners', 'copiadoras', 'kit', 'cartuchos', 'tintas', 'impressoras']\n",
      "\n",
      "\n",
      "THE TOP 15 WORDS FOR TOPIC #25\n",
      "['aquisições', 'futuras', 'horas', 'processo', 'processos', 'entrega', 'presencial', 'credenciamento', 'min', 'horário', 'dia', 'pregão', 'h', 'envelopes', 'abertura']\n",
      "\n",
      "\n",
      "THE TOP 15 WORDS FOR TOPIC #26\n",
      "['contrato', 'ata', 'lei', 'processo', 'memo', 'serem', 'utilizados', 'pe', 'conforme', 'memorando', 'solicitação', 'feita', 'pa', 'através', 'n']\n",
      "\n",
      "\n"
     ]
    }
   ],
   "source": [
    "for index,topic in enumerate(nmf_model.components_):\n",
    "    print(f'THE TOP 15 WORDS FOR TOPIC #{index}')\n",
    "    print([bow_transformer.get_feature_names()[i] for i in topic.argsort()[-15:]])\n",
    "    print('\\n')"
   ]
  },
  {
   "cell_type": "code",
   "execution_count": 22,
   "id": "72b45e62",
   "metadata": {},
   "outputs": [],
   "source": [
    "topic_resultsNMF = nmf_model.transform(messages_bow)\n",
    "licitacoes_valores['Topicos_NMF'] = topic_resultsNMF.argmax(axis=1)\n",
    "licitacoes_valores.to_csv(('C:/Users/012457631/Documents/Cursos_Resumos/Python/licitacoes_valores_kmeans_LDA_NMF_27.csv'))"
   ]
  },
  {
   "cell_type": "code",
   "execution_count": 23,
   "id": "f1348693",
   "metadata": {},
   "outputs": [],
   "source": [
    "#licitacoes_valores.head(3)"
   ]
  },
  {
   "cell_type": "code",
   "execution_count": 24,
   "id": "0b89754b",
   "metadata": {},
   "outputs": [],
   "source": [
    "#Com os 2 modelos salvos na base veremos como ficariam os seus respectivos tópicos utilizando a frequencia inversa TFIDF para vetorização\n",
    "def identity_tokenizer(text):\n",
    "    return text\n",
    "vectorizer = TfidfVectorizer(min_df = 30, lowercase=False, tokenizer=identity_tokenizer)\n",
    "tfidf = vectorizer.fit_transform(licitacoes_valores['DS_OBJETO_TRATADO'])"
   ]
  },
  {
   "cell_type": "code",
   "execution_count": 25,
   "id": "48d490c1",
   "metadata": {},
   "outputs": [
    {
     "name": "stderr",
     "output_type": "stream",
     "text": [
      "100%|██████████████████████████████████████████████████████████████████████████████████| 15/15 [01:13<00:00,  4.88s/it]\n"
     ]
    },
    {
     "data": {
      "image/png": "[encoded data removed]",
      "text/plain": [
       "<Figure size 432x288 with 1 Axes>"
      ]
     },
     "metadata": {
      "needs_background": "light"
     },
     "output_type": "display_data"
    }
   ],
   "source": [
    "#O primeiro modelo a ser analisado é o Kmeans pois podemos ver a quantidade \"razoavel\" de clusters graficamente\n",
    "import warnings\n",
    "warnings.filterwarnings('ignore')\n",
    "\n",
    "wcss = []\n",
    "minimo=2\n",
    "maximo=45\n",
    "step=3\n",
    "\n",
    "for n in tqdm(range(minimo, maximo, step)):\n",
    "    kmeans_model = KMeans(n_clusters=n, init='k-means++', max_iter=500, n_jobs=-1, algorithm='full', precompute_distances=True)\n",
    "    kmeans_model.fit(tfidf)\n",
    "    wcss.append(kmeans_model.inertia_)\n",
    "\n",
    "# Show graph\n",
    "x = range(minimo, maximo, step)\n",
    "\n",
    "plt.plot(x, wcss)\n",
    "plt.xlabel(\"Num Topic\")\n",
    "plt.ylabel(\"Soma dos quadrados intracluster\")\n",
    "plt.show()"
   ]
  },
  {
   "cell_type": "code",
   "execution_count": 26,
   "id": "8a9e4069",
   "metadata": {},
   "outputs": [],
   "source": [
    "kmeans_model = KMeans(n_clusters=28, init='k-means++', verbose=0, n_jobs=-1, algorithm='full', precompute_distances=True, tol=1e-9, max_iter=500)\n",
    "X = kmeans_model.fit(tfidf)\n",
    "labels=kmeans_model.labels_.tolist()\n",
    "licitacoes_valores['Topicos_kmeans'] = labels\n",
    "licitacoes_valores.to_csv(('C:/Users/012457631/Documents/Cursos_Resumos/Python/licitacoes_valores_kmeans_28.csv'))"
   ]
  },
  {
   "cell_type": "code",
   "execution_count": 27,
   "id": "80c721b3",
   "metadata": {},
   "outputs": [
    {
     "data": {
      "text/plain": [
       "LatentDirichletAllocation(n_components=28, random_state=42)"
      ]
     },
     "execution_count": 27,
     "metadata": {},
     "output_type": "execute_result"
    }
   ],
   "source": [
    "#Utilizando o modelo LDA para gerar os tópicos\n",
    "LDA = LatentDirichletAllocation(n_components=28,random_state=42)\n",
    "LDA.fit(tfidf)"
   ]
  },
  {
   "cell_type": "code",
   "execution_count": 28,
   "id": "3b2f8a64",
   "metadata": {},
   "outputs": [
    {
     "name": "stdout",
     "output_type": "stream",
     "text": [
      "THE TOP 15 WORDS FOR TOPIC #0\n",
      "['veiculo', 'licitatório', 'eletrônico', 'van', 'capacidade', 'item', 'equipamento', 'secretaria', 'pregão', 'novo', 'aquisição', 'zero', 'km', 'tipo', 'veículo']\n",
      "\n",
      "\n",
      "THE TOP 15 WORDS FOR TOPIC #1\n",
      "['sonorização', 'evento', 'aquisição', 'empresa', 'natalina', 'básica', 'decoração', 'gramado', 'mobiliário', 'unidade', 'montagem', 'confecção', 'processo', 'natal', 'adm']\n",
      "\n",
      "\n",
      "THE TOP 15 WORDS FOR TOPIC #2\n",
      "['aquisição', 'acordo', 'gabinete', 'alta', 'i', 'constantes', 'notebooks', 'ii', 'especificações', 'anexo', 'edital', 'constitui', 'licitação', 'objeto', 'presente']\n",
      "\n",
      "\n",
      "THE TOP 15 WORDS FOR TOPIC #3\n",
      "['epis', 'ambiente', 'meio', 'prevenção', 'saúde', 'convênio', 'agricultura', 'equipamentos', 'municipal', 'hospitalar', 'n', 'secretaria', 'proteção', 'aquisição', 'material']\n",
      "\n",
      "\n",
      "THE TOP 15 WORDS FOR TOPIC #4\n",
      "['projeto', 'trecho', 'conforme', 'material', 'mão', 'bairro', 'regime', 'contratação', 'empresa', 'pavimentação', 'obra', 'empreitada', 'global', 'execução', 'rua']\n",
      "\n",
      "\n",
      "THE TOP 15 WORDS FOR TOPIC #5\n",
      "['suporte', 'técnica', 'consultoria', 'transporte', 'controle', 'tratamento', 'final', 'especializada', 'assessoria', 'coleta', 'resíduos', 'prestação', 'empresa', 'contratação', 'serviços']\n",
      "\n",
      "\n",
      "THE TOP 15 WORDS FOR TOPIC #6\n",
      "['sme', 'registro', 'alimentos', 'usuários', 'utensílios', 'esperança', 'rs', 'energia', 'descartáveis', 'elétrica', 'sul', 'aquisição', 'brita', 'nova', 'fraldas']\n",
      "\n",
      "\n",
      "THE TOP 15 WORDS FOR TOPIC #7\n",
      "['óleo', 'combustíveis', 'placa', 'ano', 'obras', 'serviços', 'manutenção', 'máquinas', 'municipal', 'secretaria', 'frota', 'aquisição', 'conserto', 'veículos', 'peças']\n",
      "\n",
      "\n",
      "THE TOP 15 WORDS FOR TOPIC #8\n",
      "['corretiva', 'empresas', 'preços', 'pequeno', 'exclusivo', 'porte', 'registro', 'elétricos', 'material', 'aquisição', 'materiais', 'elétrico', 'pública', 'manutenção', 'iluminação']\n",
      "\n",
      "\n",
      "THE TOP 15 WORDS FOR TOPIC #9\n",
      "['aparelhos', 'conforme', 'edital', 'condicionado', 'doze', 'ar', 'sistema', 'período', 'concreto', 'req', 'aquisição', 'tubos', 'preços', 'registro', 'meses']\n",
      "\n",
      "\n",
      "THE TOP 15 WORDS FOR TOPIC #10\n",
      "['materiais', 'cartuchos', 'gráfico', 'eletrodomésticos', 'rp', 'odontológico', 'farmácia', 'material', 'preço', 'aquisição', 'medicamentos', 'eventual', 'futura', 'preços', 'registro']\n",
      "\n",
      "\n",
      "THE TOP 15 WORDS FOR TOPIC #11\n",
      "['empreitada', 'poços', 'obra', 'linha', 'poço', 'projetos', 'perfuração', 'execução', 'água', 'conforme', 'projeto', 'descritivo', 'memorial', 'empresa', 'contratação']\n",
      "\n",
      "\n",
      "THE TOP 15 WORDS FOR TOPIC #12\n",
      "['vulnerabilidade', 'municipal', 'materiais', 'saúde', 'cras', 'unidades', 'secretaria', 'odontológicos', 'cestas', 'básicas', 'aquisição', 'assistência', 'informática', 'equipamentos', 'social']\n",
      "\n",
      "\n",
      "THE TOP 15 WORDS FOR TOPIC #13\n",
      "['demanda', 'componente', 'diversas', 'construção', 'cisga', 'atender', 'necessidade', 'preços', 'material', 'materiais', 'expediente', 'municipais', 'registro', 'aquisição', 'secretarias']\n",
      "\n",
      "\n",
      "THE TOP 15 WORDS FOR TOPIC #14\n",
      "['servicos', 'empresa', 'petróleo', 'prestacao', 'glp', 'atenção', 'execucao', 'livros', 'utilização', 'p', 'servico', 'ubs', 'cozinha', 'gás', 'contratacao']\n",
      "\n",
      "\n",
      "THE TOP 15 WORDS FOR TOPIC #15\n",
      "['empresa', 'rua', 'execução', 'município', 'placas', 'drenagem', 'viária', 'repasse', 'concreto', 'contrato', 'ruas', 'vias', 'asfáltica', 'sinalização', 'pavimentação']\n",
      "\n",
      "\n",
      "THE TOP 15 WORDS FOR TOPIC #16\n",
      "['rural', 'perecíveis', 'alunos', 'escolas', 'alimenticios', 'generos', 'transporte', 'agricultura', 'aquisição', 'merenda', 'familiar', 'alimentação', 'gêneros', 'alimentícios', 'escolar']\n",
      "\n",
      "\n",
      "THE TOP 15 WORDS FOR TOPIC #17\n",
      "['segurança', 'pneus', 'constante', 'monitoramento', 'descrição', 'recapagem', 'fornecimento', 'instalação', 'internet', 'especializada', 'serviço', 'empresa', 'serviços', 'prestação', 'contratação']\n",
      "\n",
      "\n",
      "THE TOP 15 WORDS FOR TOPIC #18\n",
      "['valor', 'aquisição', 'admitido', 'r', 'máximo', 'i', 'testes', 'edital', 'anexo', 'pregão', 'conforme', 'presencial', 'referência', 'termo', 'covid']\n",
      "\n",
      "\n",
      "THE TOP 15 WORDS FOR TOPIC #19\n",
      "['hospitalares', 'atividades', 'manutenção', 'brinquedos', 'materiais', 'escola', 'fundamental', 'rede', 'municipais', 'municipal', 'infantil', 'educação', 'ensino', 'escolas', 'aquisição']\n",
      "\n",
      "\n",
      "THE TOP 15 WORDS FOR TOPIC #20\n",
      "['digital', 'consulta', 'popular', 'flores', 'produtos', 'limpeza', 'servidores', 'públicos', 'escolares', 'grama', 'exames', 'ambulatoriais', 'higienização', 'aquisição', 'uniformes']\n",
      "\n",
      "\n",
      "THE TOP 15 WORDS FOR TOPIC #21\n",
      "['min', 'processos', 'inservíveis', 'pp', 'horário', 'imóveis', 'credenciamento', 'alienação', 'dia', 'led', 'envelopes', 'h', 'móveis', 'abertura', 'bens']\n",
      "\n",
      "\n",
      "THE TOP 15 WORDS FOR TOPIC #22\n",
      "['manutenção', 'município', 'impressoras', 'administração', 'especializada', 'sistemas', 'público', 'gestão', 'computadores', 'municipal', 'prestação', 'empresa', 'serviços', 'contratação', 'locação']\n",
      "\n",
      "\n",
      "THE TOP 15 WORDS FOR TOPIC #23\n",
      "['carregadeira', 'médico', 'empresa', 'saúde', 'horas', 'permanente', 'geral', 'jurídica', 'prestação', 'pessoa', 'contratação', 'atendimento', 'aquisicao', 'médicos', 'serviços']\n",
      "\n",
      "\n",
      "THE TOP 15 WORDS FOR TOPIC #24\n",
      "['ferramentas', 'serviços', 'oxigênio', 'caminhão', 'eletronico', 'horas', 'pregao', 'máquina', 'preços', 'parceladas', 'hidráulica', 'registro', 'escavadeira', 'aquisições', 'futuras']\n",
      "\n",
      "\n",
      "THE TOP 15 WORDS FOR TOPIC #25\n",
      "['materiais', 'contratação', 'compra', 'serviços', 'conforme', 'anexo', 'secretaria', 'saúde', 'área', 'subscrito', 'responsável', 'memorando', 'proveniente', 'via', 'solicitação']\n",
      "\n",
      "\n",
      "THE TOP 15 WORDS FOR TOPIC #26\n",
      "['material', 'conforme', 'câmaras', 'única', 'novos', 'integral', 'lubrificantes', 'edital', 'anexos', 'imediata', 'entrega', 'limpeza', 'higiene', 'aquisição', 'pneus']\n",
      "\n",
      "\n",
      "THE TOP 15 WORDS FOR TOPIC #27\n",
      "['quadra', 'especializada', 'municipal', 'prédio', 'centro', 'fornecimento', 'ampliação', 'mão', 'emef', 'construção', 'execução', 'obra', 'contratação', 'empresa', 'reforma']\n",
      "\n",
      "\n"
     ]
    }
   ],
   "source": [
    "#Função que retorna as 15 palavras mais importantes por tópico\n",
    "for index,topic in enumerate(LDA.components_):\n",
    "    print(f'THE TOP 15 WORDS FOR TOPIC #{index}')\n",
    "    print([vectorizer.get_feature_names()[i] for i in topic.argsort()[-15:]])\n",
    "    print('\\n')"
   ]
  },
  {
   "cell_type": "code",
   "execution_count": 29,
   "id": "a172d875",
   "metadata": {},
   "outputs": [],
   "source": [
    "topic_results_tfidf_LDA = LDA.transform(tfidf)\n",
    "licitacoes_valores['Topicos_tfidf_LDA'] = topic_results_tfidf_LDA.argmax(axis=1)\n",
    "licitacoes_valores.to_csv(('C:/Users/012457631/Documents/Cursos_Resumos/Python/licitacoes_valores_tfidf_kmeans_LDA_28.csv'))"
   ]
  },
  {
   "cell_type": "code",
   "execution_count": 30,
   "id": "5e927f6f",
   "metadata": {},
   "outputs": [
    {
     "data": {
      "text/plain": [
       "NMF(n_components=28, random_state=42)"
      ]
     },
     "execution_count": 30,
     "metadata": {},
     "output_type": "execute_result"
    }
   ],
   "source": [
    "#Utilizano o modelo NMF para uma nova separação de tópicos\n",
    "nmf_model = NMF(n_components=28,random_state=42)\n",
    "nmf_model.fit(tfidf)"
   ]
  },
  {
   "cell_type": "code",
   "execution_count": 31,
   "id": "fe956d48",
   "metadata": {
    "scrolled": false
   },
   "outputs": [
    {
     "name": "stdout",
     "output_type": "stream",
     "text": [
      "THE TOP 15 WORDS FOR TOPIC #0\n",
      "['cestas', 'generos', 'covid', 'instalação', 'descartáveis', 'máscaras', 'lubrificantes', 'uso', 'sms', 'uniformes', 'móveis', 'retroescavadeira', 'fraldas', 'req', 'aquisição']\n",
      "\n",
      "\n",
      "THE TOP 15 WORDS FOR TOPIC #1\n",
      "['consultoria', 'prestação', 'projeto', 'assessoria', 'gestão', 'contratacao', 'instalação', 'elaboração', 'execução', 'realizar', 'locação', 'realização', 'especializada', 'contratação', 'empresa']\n",
      "\n",
      "\n",
      "THE TOP 15 WORDS FOR TOPIC #2\n",
      "['n', 'serviços', 'contratação', 'compra', 'secretaria', 'conforme', 'anexo', 'saúde', 'área', 'solicitação', 'via', 'memorando', 'responsável', 'proveniente', 'subscrito']\n",
      "\n",
      "\n",
      "THE TOP 15 WORDS FOR TOPIC #3\n",
      "['eventuais', 'visando', 'hamburgo', 'validade', 'doze', 'período', 'ata', 'sob', 'parceladas', 'sistema', 'meses', 'aquisições', 'futuras', 'registro', 'preços']\n",
      "\n",
      "\n",
      "THE TOP 15 WORDS FOR TOPIC #4\n",
      "['compreendendo', 'mao', 'caminhão', 'substituição', 'garantia', 'processo', 'adm', 'incluindo', 'necessários', 'conserto', 'peças', 'instalação', 'mão', 'obra', 'fornecimento']\n",
      "\n",
      "\n",
      "THE TOP 15 WORDS FOR TOPIC #5\n",
      "['desenvolvimento', 'meio', 'atender', 'ambiente', 'viação', 'agricultura', 'cultura', 'assistência', 'uso', 'social', 'educação', 'obras', 'saúde', 'municipal', 'secretaria']\n",
      "\n",
      "\n",
      "THE TOP 15 WORDS FOR TOPIC #6\n",
      "['generos', 'perecíveis', 'nacional', 'programa', 'chamada', 'pnae', 'rural', 'empreendedor', 'merenda', 'escolar', 'alimentação', 'agricultura', 'familiar', 'gêneros', 'alimentícios']\n",
      "\n",
      "\n",
      "THE TOP 15 WORDS FOR TOPIC #7\n",
      "['proteção', 'gráfico', 'hidráulico', 'req', 'ambulatorial', 'odontológico', 'consumo', 'permanente', 'aquisicao', 'elétrico', 'higiene', 'hospitalar', 'limpeza', 'expediente', 'material']\n",
      "\n",
      "\n",
      "THE TOP 15 WORDS FOR TOPIC #8\n",
      "['pintura', 'permanentes', 'destinados', 'diversos', 'iluminação', 'compra', 'ambulatoriais', 'hospitalares', 'hidráulicos', 'odontológicos', 'expediente', 'higiene', 'elétricos', 'limpeza', 'materiais']\n",
      "\n",
      "\n",
      "THE TOP 15 WORDS FOR TOPIC #9\n",
      "['cozinha', 'gás', 'todas', 'higiene', 'necessidades', 'atividades', 'demanda', 'atender', 'expediente', 'uso', 'limpeza', 'diversas', 'escolas', 'secretarias', 'municipais']\n",
      "\n",
      "\n",
      "THE TOP 15 WORDS FOR TOPIC #10\n",
      "['basicos', 'insumos', 'gratuita', 'componente', 'atendimento', 'ubs', 'ambulatoriais', 'unidade', 'unidades', 'cisga', 'distribuição', 'saúde', 'básica', 'farmácia', 'medicamentos']\n",
      "\n",
      "\n",
      "THE TOP 15 WORDS FOR TOPIC #11\n",
      "['zero', 'tipo', 'única', 'leve', 'caminhão', 'placa', 'novo', 'km', 'ano', 'conserto', 'integral', 'entrega', 'imediata', 'peças', 'veículo']\n",
      "\n",
      "\n",
      "THE TOP 15 WORDS FOR TOPIC #12\n",
      "['participação', 'exclusivo', 'microempresa', 'pequeno', 'porte', 'processo', 'abertura', 'edital', 'eletrônico', 'presencial', 'basicos', 'componente', 'necessidade', 'cisga', 'pregão']\n",
      "\n",
      "\n",
      "THE TOP 15 WORDS FOR TOPIC #13\n",
      "['especializados', 'atendimento', 'área', 'pessoa', 'jurídica', 'consultoria', 'técnicos', 'horas', 'médicos', 'assessoria', 'limpeza', 'município', 'contratação', 'prestação', 'serviços']\n",
      "\n",
      "\n",
      "THE TOP 15 WORDS FOR TOPIC #14\n",
      "['permanente', 'diversos', 'aparelhos', 'eletrônicos', 'eletrodomésticos', 'instalação', 'hospitalares', 'permanentes', 'móveis', 'ar', 'agrícolas', 'individual', 'proteção', 'informática', 'equipamentos']\n",
      "\n",
      "\n",
      "THE TOP 15 WORDS FOR TOPIC #15\n",
      "['caminhões', 'lubrificantes', 'óleo', 'diesel', 'prefeitura', 'municipal', 'combustíveis', 'recapagem', 'câmaras', 'município', 'novos', 'máquinas', 'frota', 'pneus', 'veículos']\n",
      "\n",
      "\n",
      "THE TOP 15 WORDS FOR TOPIC #16\n",
      "['cultura', 'atividades', 'instalação', 'escolares', 'brinquedos', 'ampliação', 'alunos', 'infantil', 'escolas', 'fundamental', 'escola', 'educação', 'municipal', 'rede', 'ensino']\n",
      "\n",
      "\n",
      "THE TOP 15 WORDS FOR TOPIC #17\n",
      "['modalidade', 'regime', 'presencial', 'sistema', 'unitário', 'item', 'máximo', 'admitido', 'através', 'menor', 'tipo', 'processo', 'adm', 'registro', 'preço']\n",
      "\n",
      "\n",
      "THE TOP 15 WORDS FOR TOPIC #18\n",
      "['meses', 'pneus', 'assinatura', 'cestas', 'básicas', 'diversas', 'doze', 'secretarias', 'ata', 'período', 'registro', 'visando', 'contados', 'eventual', 'futura']\n",
      "\n",
      "\n",
      "THE TOP 15 WORDS FOR TOPIC #19\n",
      "['estradas', 'gestão', 'suporte', 'ar', 'instalações', 'peças', 'instalação', 'locação', 'preventiva', 'município', 'corretiva', 'iluminação', 'pública', 'atividades', 'manutenção']\n",
      "\n",
      "\n",
      "THE TOP 15 WORDS FOR TOPIC #20\n",
      "['processo', 'atendimento', 'especializado', 'transporte', 'monitoramento', 'acolhimento', 'locação', 'impressão', 'internet', 'horas', 'req', 'recapagem', 'contratação', 'prestação', 'serviço']\n",
      "\n",
      "\n",
      "THE TOP 15 WORDS FOR TOPIC #21\n",
      "['generos', 'realização', 'domiciliares', 'tratamento', 'ano', 'sólidos', 'linha', 'destinação', 'município', 'final', 'coleta', 'resíduos', 'merenda', 'escolar', 'transporte']\n",
      "\n",
      "\n",
      "THE TOP 15 WORDS FOR TOPIC #22\n",
      "['ponte', 'intertravados', 'piso', 'pluvial', 'vias', 'drenagem', 'estradas', 'obras', 'usinado', 'armado', 'meio', 'fio', 'blocos', 'tubos', 'concreto']\n",
      "\n",
      "\n",
      "THE TOP 15 WORDS FOR TOPIC #23\n",
      "['pedras', 'drenagem', 'estrada', 'repasse', 'bairro', 'contrato', 'sinalização', 'cbuq', 'trecho', 'execução', 'ruas', 'asfáltica', 'município', 'rua', 'pavimentação']\n",
      "\n",
      "\n",
      "THE TOP 15 WORDS FOR TOPIC #24\n",
      "['coberta', 'bairro', 'muro', 'escola', 'junto', 'praça', 'cobertura', 'etapa', 'quadra', 'social', 'civil', 'cemitério', 'município', 'centro', 'construção']\n",
      "\n",
      "\n",
      "THE TOP 15 WORDS FOR TOPIC #25\n",
      "['admitido', 'período', 'deste', 'sistema', 'presencial', 'meses', 'constantes', 'especificações', 'anexos', 'i', 'referência', 'termo', 'anexo', 'edital', 'conforme']\n",
      "\n",
      "\n",
      "THE TOP 15 WORDS FOR TOPIC #26\n",
      "['planilha', 'sob', 'obra', 'prédio', 'cronograma', 'projeto', 'emef', 'ampliação', 'descritivo', 'memorial', 'regime', 'reforma', 'global', 'empreitada', 'execução']\n",
      "\n",
      "\n",
      "THE TOP 15 WORDS FOR TOPIC #27\n",
      "['cujos', 'qualitativos', 'dados', 'quantitativos', 'constam', 'constantes', 'acordo', 'especificações', 'edital', 'ii', 'município', 'constitui', 'licitação', 'objeto', 'presente']\n",
      "\n",
      "\n"
     ]
    }
   ],
   "source": [
    "#Função que retorna as 15 palavras mais importantes por tópico\n",
    "for index,topic in enumerate(nmf_model.components_):\n",
    "    print(f'THE TOP 15 WORDS FOR TOPIC #{index}')\n",
    "    print([vectorizer.get_feature_names()[i] for i in topic.argsort()[-15:]])\n",
    "    print('\\n')"
   ]
  },
  {
   "cell_type": "code",
   "execution_count": 32,
   "id": "3fbafbc2",
   "metadata": {},
   "outputs": [],
   "source": [
    "topic_results_tfidf_NMF = nmf_model.transform(tfidf)\n",
    "licitacoes_valores['Topicos_tfidf_NMF'] = topic_results_tfidf_NMF.argmax(axis=1)\n",
    "licitacoes_valores.to_csv(('C:/Users/012457631/Documents/Cursos_Resumos/Python/licitacoes_valores_tfidf_kmeans_LDA_NMF_28.csv'))"
   ]
  },
  {
   "cell_type": "code",
   "execution_count": 42,
   "id": "e600d8b6",
   "metadata": {},
   "outputs": [],
   "source": [
    "#Inserção das bases para analises\n",
    "LicitacoesTopicosVF = pd.read_excel('C:/Users/012457631/Documents/AnaliseLicitacoes/LicitacoesVF.xlsx')\n",
    "LicitacoesRenomeadas = pd.read_excel('C:/Users/012457631/Documents/AnaliseLicitacoes/Licitacoes_renomeadas.xlsx')\n",
    "BaseLicitacoes=pd.merge(LicitacoesTopicosVF,LicitacoesRenomeadas,how='inner',on='Topicos_NMF')"
   ]
  },
  {
   "cell_type": "code",
   "execution_count": 45,
   "id": "e1c961fc",
   "metadata": {},
   "outputs": [],
   "source": [
    "#Gerando as culunas de ANO E MES\n",
    "from datetime import datetime\n",
    "BaseLicitacoes['DT_HOMOLOGACAO'] =  pd.to_datetime(BaseLicitacoes['DT_HOMOLOGACAO'], format='%d/%m/%Y')\n",
    "BaseLicitacoes['ANO'] = BaseLicitacoes['DT_HOMOLOGACAO'].dt.year\n",
    "BaseLicitacoes['MES'] = BaseLicitacoes['DT_HOMOLOGACAO'].dt.month"
   ]
  },
  {
   "cell_type": "code",
   "execution_count": 47,
   "id": "dfa82650",
   "metadata": {},
   "outputs": [
    {
     "data": {
      "text/plain": [
       "Aquisição de materiais gerais                                 2763\n",
       "Registro de preços                                            2096\n",
       "Recuperação/manutenção de estabelecimentos                    1164\n",
       "Serviços de manutenção geral                                  1145\n",
       "Serviços especializados                                       1070\n",
       "Fornecedoras de mão de obra especializada                      925\n",
       "Tratamento de esgoto/água                                      594\n",
       "Manutenção de áreas publicas (abertas)                         593\n",
       "Serviços de locomoção                                          533\n",
       "Manutenção asfáltica                                           493\n",
       "Contratação de empresa em regime de empreiteira global         394\n",
       "Serviços/aquisições hospitalares                               392\n",
       "Ampliação/reforma de estabelecimentos                          381\n",
       "Serviços da área da saúde                                      338\n",
       "Outros                                                         335\n",
       "Aquisição de generos alimentícios                              330\n",
       "Serviços mecanicos                                             330\n",
       "Serviços de pavimentação asfáltica                             323\n",
       "Aquisição de insumos gerais                                    310\n",
       "Serviços e materias escolares                                  306\n",
       "Fornecedoras de material de construção                         302\n",
       "Aquisição/locação de mobiliário/equipamentos                   275\n",
       "Aquisição de peças para manutenções                            186\n",
       "Aquisição de veículos/peças para veículos                      178\n",
       "Administração/monitoramento de estabelecimentos e serviços     132\n",
       "Instalações/obras elétricas                                     86\n",
       "Name: Motivos, dtype: int64"
      ]
     },
     "execution_count": 47,
     "metadata": {},
     "output_type": "execute_result"
    }
   ],
   "source": [
    "BaseLicitacoes['Motivos'].value_counts().head(26)"
   ]
  },
  {
   "cell_type": "code",
   "execution_count": 61,
   "id": "74ac1181",
   "metadata": {},
   "outputs": [
    {
     "data": {
      "text/plain": [
       "Motivos\n",
       "Administração/monitoramento de estabelecimentos e serviços    1.679523e+08\n",
       "Ampliação/reforma de estabelecimentos                         3.073158e+08\n",
       "Aquisição de generos alimentícios                             2.078709e+08\n",
       "Name: VL_HOMOLOGADO, dtype: float64"
      ]
     },
     "execution_count": 61,
     "metadata": {},
     "output_type": "execute_result"
    }
   ],
   "source": [
    "BaseLicitacoes.groupby('Motivos').mean()['VL_HOMOLOGADO'].head(3)\n",
    "#O motivo de maior arrecadação monetária em média doi o de \"Administração/monitoramento de estabelecimentos e serviços\""
   ]
  },
  {
   "cell_type": "code",
   "execution_count": 49,
   "id": "bc40f41e",
   "metadata": {},
   "outputs": [
    {
     "data": {
      "text/plain": [
       "<AxesSubplot:xlabel='MES', ylabel='count'>"
      ]
     },
     "execution_count": 49,
     "metadata": {},
     "output_type": "execute_result"
    },
    {
     "data": {
      "image/png": "[encoded data removed]",
      "text/plain": [
       "<Figure size 432x288 with 1 Axes>"
      ]
     },
     "metadata": {
      "needs_background": "light"
     },
     "output_type": "display_data"
    }
   ],
   "source": [
    "#Gráfico visão geral por mes\n",
    "sns.countplot(x='MES',data=BaseLicitacoes)"
   ]
  },
  {
   "cell_type": "code",
   "execution_count": 58,
   "id": "e1e7b0cd",
   "metadata": {},
   "outputs": [
    {
     "data": {
      "text/plain": [
       "MES\n",
       "1     1.959169e+08\n",
       "2     3.068879e+08\n",
       "3     2.839717e+08\n",
       "4     3.060824e+08\n",
       "5     3.645388e+08\n",
       "6     5.154635e+09\n",
       "7     2.926995e+08\n",
       "8     4.441121e+08\n",
       "9     3.780489e+08\n",
       "10    3.090605e+08\n",
       "11    4.271779e+08\n",
       "12    4.315008e+08\n",
       "Name: VL_HOMOLOGADO, dtype: float64"
      ]
     },
     "execution_count": 58,
     "metadata": {},
     "output_type": "execute_result"
    }
   ],
   "source": [
    "#No gráfico acima podemos observar pouca variação na quantidade de licitações entre agosto e novembro\n",
    "BaseLicitacoes.groupby('MES').mean()['VL_HOMOLOGADO'].head(12)\n",
    "#O mes com maior arrecadação monetária (média) foi Junho"
   ]
  },
  {
   "cell_type": "code",
   "execution_count": 62,
   "id": "1d98b9bd",
   "metadata": {},
   "outputs": [],
   "source": [
    "#Conclusões Gerais:\n",
    "#O modelo com melhor tratamento e divisão de dados foi o de bag of word + Non-negative Matrix Factorization(NMF)\n",
    "#Nesse estudo repartimos os dados em 26 clusters distintos sendo um de \"Outros\"\n",
    "#pois não foi possível encontrar um padrão para recodificar o mesmo\n",
    "#Para a análise foram usadas os valores monetários e de data homologados pois são os valores considerados finais, oficiais\n",
    "#Apesar do motivo de aquisições estar no topo, houveram mais licitações relacionadas a contratatação de empresas e serviços\n",
    "#que aquisição de materiais/insumos\n",
    "#Ao analisar os clusters é possível ver forte presença de contratação para obras (construção, reforma, pavimentção...) e aquisição de materiais para as mesmas"
   ]
  }
 ],
 "metadata": {
  "kernelspec": {
   "display_name": "Python 3",
   "language": "python",
   "name": "python3"
  },
  "language_info": {
   "codemirror_mode": {
    "name": "ipython",
    "version": 3
   },
   "file_extension": ".py",
   "mimetype": "text/x-python",
   "name": "python",
   "nbconvert_exporter": "python",
   "pygments_lexer": "ipython3",
   "version": "3.8.8"
  }
 },
 "nbformat": 4,
 "nbformat_minor": 5
}
