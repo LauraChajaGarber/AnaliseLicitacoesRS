{
 "cells": [
  {
   "cell_type": "code",
   "execution_count": 1,
   "id": "400eb1f3",
   "metadata": {},
   "outputs": [
    {
     "name": "stderr",
     "output_type": "stream",
     "text": [
      "[nltk_data] Downloading package wordnet to\n",
      "[nltk_data]     C:\\Users\\012457631\\AppData\\Roaming\\nltk_data...\n",
      "[nltk_data]   Package wordnet is already up-to-date!\n",
      "[nltk_data] Downloading package punkt to\n",
      "[nltk_data]     C:\\Users\\012457631\\AppData\\Roaming\\nltk_data...\n",
      "[nltk_data]   Package punkt is already up-to-date!\n",
      "[nltk_data] Downloading package stopwords to\n",
      "[nltk_data]     C:\\Users\\012457631\\AppData\\Roaming\\nltk_data...\n",
      "[nltk_data]   Package stopwords is already up-to-date!\n"
     ]
    }
   ],
   "source": [
    "#Importando as bibliotecas que possivelmente seráo usadas\n",
    "import re\n",
    "import numpy as np\n",
    "import pandas as pd\n",
    "import seaborn as sns\n",
    "import math\n",
    "from pprint import pprint\n",
    "import unicodedata\n",
    "\n",
    "# Importando a library Natural Language Toolkit - NLTK para tratamento de linguagem natural.\n",
    "import nltk\n",
    "nltk.download('wordnet')\n",
    "nltk.download('punkt')\n",
    "from sklearn.feature_extraction.text import CountVectorizer\n",
    "from sklearn.feature_extraction.text import TfidfVectorizer\n",
    "from sklearn.feature_extraction.text import TfidfTransformer\n",
    "from sklearn.cluster import KMeans\n",
    "\n",
    "\n",
    "#Importando as stopwords\n",
    "from nltk.corpus import stopwords\n",
    "nltk.download('stopwords')# Download das stopworks do NLTK\n",
    "language = 'portuguese'\n",
    "stopwords = stopwords.words(language)\n",
    "stopwords = list(set(stopwords))\n",
    "\n",
    "#Gensim\n",
    "import gensim\n",
    "import gensim.corpora as corpora\n",
    "from gensim.utils import simple_preprocess\n",
    "from gensim.models import CoherenceModel\n",
    "from gensim.models.hdpmodel import HdpModel\n",
    "from gensim.models.doc2vec import Doc2Vec, TaggedDocument\n",
    "\n",
    "#Plotagem\n",
    "import spacy\n",
    "import matplotlib.pyplot as plt\n",
    "import matplotlib.colors as mcolors\n",
    "from wordcloud import WordCloud, STOPWORDS\n",
    "%matplotlib inline\n",
    "\n",
    "import logging\n",
    "logging.basicConfig(format='%(asctime)s : %(levelname)s : %(message)s', level=logging.ERROR)\n",
    "\n",
    "import warnings\n",
    "warnings.filterwarnings(\"ignore\",category=DeprecationWarning)\n",
    "from tqdm import tqdm"
   ]
  },
  {
   "cell_type": "code",
   "execution_count": 4,
   "id": "fc162fd8",
   "metadata": {},
   "outputs": [
    {
     "data": {
      "text/html": [
       "<div>\n",
       "<style scoped>\n",
       "    .dataframe tbody tr th:only-of-type {\n",
       "        vertical-align: middle;\n",
       "    }\n",
       "\n",
       "    .dataframe tbody tr th {\n",
       "        vertical-align: top;\n",
       "    }\n",
       "\n",
       "    .dataframe thead th {\n",
       "        text-align: right;\n",
       "    }\n",
       "</style>\n",
       "<table border=\"1\" class=\"dataframe\">\n",
       "  <thead>\n",
       "    <tr style=\"text-align: right;\">\n",
       "      <th></th>\n",
       "      <th>CD_ORGAO</th>\n",
       "      <th>NR_LICITACAO</th>\n",
       "      <th>ANO_LICITACAO</th>\n",
       "      <th>CD_TIPO_MODALIDADE</th>\n",
       "      <th>NR_ITEM</th>\n",
       "      <th>NR_ITEM_ORIGINAL</th>\n",
       "      <th>DS_ITEM</th>\n",
       "      <th>QT_ITENS</th>\n",
       "      <th>VL_UNITARIO_ESTIMADO</th>\n",
       "      <th>VL_TOTAL_ESTIMADO</th>\n",
       "      <th>DT_REF_VALOR_ESTIMADO</th>\n",
       "      <th>CD_FONTE_REFERENCIA</th>\n",
       "      <th>VL_UNITARIO_HOMOLOGADO</th>\n",
       "      <th>VL_TOTAL_HOMOLOGADO</th>\n",
       "      <th>BL_COVID19</th>\n",
       "    </tr>\n",
       "  </thead>\n",
       "  <tbody>\n",
       "    <tr>\n",
       "      <th>0</th>\n",
       "      <td>44500.0</td>\n",
       "      <td>274.0</td>\n",
       "      <td>2021.0</td>\n",
       "      <td>CPC</td>\n",
       "      <td>1.0</td>\n",
       "      <td>1.0</td>\n",
       "      <td>Credenciamento de academias de ginástica e mus...</td>\n",
       "      <td>100.0</td>\n",
       "      <td>5000.0</td>\n",
       "      <td>5000.0</td>\n",
       "      <td>NaN</td>\n",
       "      <td>NaN</td>\n",
       "      <td>NaN</td>\n",
       "      <td>NaN</td>\n",
       "      <td>N</td>\n",
       "    </tr>\n",
       "    <tr>\n",
       "      <th>1</th>\n",
       "      <td>56900.0</td>\n",
       "      <td>25.0</td>\n",
       "      <td>2021.0</td>\n",
       "      <td>TMP</td>\n",
       "      <td>1.0</td>\n",
       "      <td>11.0</td>\n",
       "      <td>PLACA DE OBRA (PARA CONSTRUCAO CIVIL) EM CHAPA...</td>\n",
       "      <td>600.0</td>\n",
       "      <td>27249.0</td>\n",
       "      <td>163494.0</td>\n",
       "      <td>2021-06-18 00:00:00</td>\n",
       "      <td>00004813</td>\n",
       "      <td>NaN</td>\n",
       "      <td>NaN</td>\n",
       "      <td>N</td>\n",
       "    </tr>\n",
       "  </tbody>\n",
       "</table>\n",
       "</div>"
      ],
      "text/plain": [
       "   CD_ORGAO  NR_LICITACAO  ANO_LICITACAO CD_TIPO_MODALIDADE  NR_ITEM  \\\n",
       "0   44500.0         274.0         2021.0                CPC      1.0   \n",
       "1   56900.0          25.0         2021.0                TMP      1.0   \n",
       "\n",
       "   NR_ITEM_ORIGINAL                                            DS_ITEM  \\\n",
       "0               1.0  Credenciamento de academias de ginástica e mus...   \n",
       "1              11.0  PLACA DE OBRA (PARA CONSTRUCAO CIVIL) EM CHAPA...   \n",
       "\n",
       "   QT_ITENS  VL_UNITARIO_ESTIMADO  VL_TOTAL_ESTIMADO DT_REF_VALOR_ESTIMADO  \\\n",
       "0     100.0                5000.0             5000.0                   NaN   \n",
       "1     600.0               27249.0           163494.0   2021-06-18 00:00:00   \n",
       "\n",
       "  CD_FONTE_REFERENCIA  VL_UNITARIO_HOMOLOGADO  VL_TOTAL_HOMOLOGADO BL_COVID19  \n",
       "0                 NaN                     NaN                  NaN          N  \n",
       "1           00004813                      NaN                  NaN          N  "
      ]
     },
     "execution_count": 4,
     "metadata": {},
     "output_type": "execute_result"
    }
   ],
   "source": [
    "#Importação da base licitação\n",
    "itens = pd.read_excel('C:/Users/012457631/Documents/Cursos_Resumos/Python/ITENS.xlsx')\n",
    "#Visualização das colunas da base itens\n",
    "itens.head(2)"
   ]
  },
  {
   "cell_type": "code",
   "execution_count": 5,
   "id": "80560c6c",
   "metadata": {},
   "outputs": [
    {
     "data": {
      "text/plain": [
       "<AxesSubplot:>"
      ]
     },
     "execution_count": 5,
     "metadata": {},
     "output_type": "execute_result"
    },
    {
     "data": {
      "image/png": "[encoded data removed]",
      "text/plain": [
       "<Figure size 432x288 with 1 Axes>"
      ]
     },
     "metadata": {
      "needs_background": "light"
     },
     "output_type": "display_data"
    }
   ],
   "source": [
    "#Verificação de valores vazios\n",
    "sns.heatmap(itens.isnull(),yticklabels=False,cbar=False,cmap='viridis')"
   ]
  },
  {
   "cell_type": "code",
   "execution_count": 6,
   "id": "9846c082",
   "metadata": {},
   "outputs": [
    {
     "data": {
      "text/plain": [
       "<AxesSubplot:>"
      ]
     },
     "execution_count": 6,
     "metadata": {},
     "output_type": "execute_result"
    },
    {
     "data": {
      "image/png": "[encoded data removed]",
      "text/plain": [
       "<Figure size 432x288 with 1 Axes>"
      ]
     },
     "metadata": {
      "needs_background": "light"
     },
     "output_type": "display_data"
    }
   ],
   "source": [
    "#Retirada dos vazios da base licitação\n",
    "itens = itens.dropna()\n",
    "#Verificação de valores vazios\n",
    "sns.heatmap(itens.isnull(),yticklabels=False,cbar=False,cmap='viridis')"
   ]
  },
  {
   "cell_type": "code",
   "execution_count": 9,
   "id": "dca108f4",
   "metadata": {},
   "outputs": [
    {
     "data": {
      "text/plain": [
       "count    9.336600e+04\n",
       "mean     9.766259e+06\n",
       "std      5.227973e+08\n",
       "min      0.000000e+00\n",
       "25%      1.654225e+04\n",
       "50%      9.349500e+04\n",
       "75%      4.417015e+05\n",
       "max      9.180011e+10\n",
       "Name: VL_TOTAL_HOMOLOGADO, dtype: float64"
      ]
     },
     "execution_count": 9,
     "metadata": {},
     "output_type": "execute_result"
    }
   ],
   "source": [
    "#Dados descritivos\n",
    "itens['VL_TOTAL_HOMOLOGADO'].describe()"
   ]
  },
  {
   "cell_type": "code",
   "execution_count": 10,
   "id": "2a3aac49",
   "metadata": {},
   "outputs": [
    {
     "data": {
      "text/html": [
       "<div>\n",
       "<style scoped>\n",
       "    .dataframe tbody tr th:only-of-type {\n",
       "        vertical-align: middle;\n",
       "    }\n",
       "\n",
       "    .dataframe tbody tr th {\n",
       "        vertical-align: top;\n",
       "    }\n",
       "\n",
       "    .dataframe thead th {\n",
       "        text-align: right;\n",
       "    }\n",
       "</style>\n",
       "<table border=\"1\" class=\"dataframe\">\n",
       "  <thead>\n",
       "    <tr style=\"text-align: right;\">\n",
       "      <th></th>\n",
       "      <th>CD_ORGAO</th>\n",
       "      <th>NR_LICITACAO</th>\n",
       "      <th>ANO_LICITACAO</th>\n",
       "      <th>CD_TIPO_MODALIDADE</th>\n",
       "      <th>NR_ITEM</th>\n",
       "      <th>NR_ITEM_ORIGINAL</th>\n",
       "      <th>DS_ITEM</th>\n",
       "      <th>QT_ITENS</th>\n",
       "      <th>VL_UNITARIO_ESTIMADO</th>\n",
       "      <th>VL_TOTAL_ESTIMADO</th>\n",
       "      <th>DT_REF_VALOR_ESTIMADO</th>\n",
       "      <th>CD_FONTE_REFERENCIA</th>\n",
       "      <th>VL_UNITARIO_HOMOLOGADO</th>\n",
       "      <th>VL_TOTAL_HOMOLOGADO</th>\n",
       "      <th>BL_COVID19</th>\n",
       "    </tr>\n",
       "  </thead>\n",
       "  <tbody>\n",
       "    <tr>\n",
       "      <th>362243</th>\n",
       "      <td>88225.0</td>\n",
       "      <td>6.0</td>\n",
       "      <td>2021.0</td>\n",
       "      <td>PRE</td>\n",
       "      <td>1.0</td>\n",
       "      <td>1.0</td>\n",
       "      <td>SERVIÇO DE CONTROLE DE PRAGAS</td>\n",
       "      <td>7348500.0</td>\n",
       "      <td>74.0</td>\n",
       "      <td>5437890.0</td>\n",
       "      <td>2021-05-20 00:00:00</td>\n",
       "      <td>COTACAO; 22/2021</td>\n",
       "      <td>1249236.0</td>\n",
       "      <td>9.180011e+10</td>\n",
       "      <td>N</td>\n",
       "    </tr>\n",
       "  </tbody>\n",
       "</table>\n",
       "</div>"
      ],
      "text/plain": [
       "        CD_ORGAO  NR_LICITACAO  ANO_LICITACAO CD_TIPO_MODALIDADE  NR_ITEM  \\\n",
       "362243   88225.0           6.0         2021.0                PRE      1.0   \n",
       "\n",
       "        NR_ITEM_ORIGINAL                        DS_ITEM   QT_ITENS  \\\n",
       "362243               1.0  SERVIÇO DE CONTROLE DE PRAGAS  7348500.0   \n",
       "\n",
       "        VL_UNITARIO_ESTIMADO  VL_TOTAL_ESTIMADO DT_REF_VALOR_ESTIMADO  \\\n",
       "362243                  74.0          5437890.0   2021-05-20 00:00:00   \n",
       "\n",
       "       CD_FONTE_REFERENCIA  VL_UNITARIO_HOMOLOGADO  VL_TOTAL_HOMOLOGADO  \\\n",
       "362243    COTACAO; 22/2021               1249236.0         9.180011e+10   \n",
       "\n",
       "       BL_COVID19  \n",
       "362243          N  "
      ]
     },
     "execution_count": 10,
     "metadata": {},
     "output_type": "execute_result"
    }
   ],
   "source": [
    "#Licitaçao de maior valor da base\n",
    "itens[itens['VL_TOTAL_HOMOLOGADO']== itens['VL_TOTAL_HOMOLOGADO'].max()]\n",
    "#O maior valor total homologado foi de um serviço de controle de pragas"
   ]
  },
  {
   "cell_type": "code",
   "execution_count": 11,
   "id": "ca425f4a",
   "metadata": {},
   "outputs": [
    {
     "name": "stdout",
     "output_type": "stream",
     "text": [
      "A soma dos valores homologados de 2019 a 2021 é 911836584224.0\n"
     ]
    }
   ],
   "source": [
    "#VL_HOMOLOGADO Total\n",
    "Total_Homologado = itens['VL_TOTAL_HOMOLOGADO'].sum()\n",
    "print(\"A soma dos valores homologados de 2019 a 2021 é\",Total_Homologado )"
   ]
  },
  {
   "cell_type": "code",
   "execution_count": 12,
   "id": "4f7c1fb0",
   "metadata": {},
   "outputs": [
    {
     "name": "stderr",
     "output_type": "stream",
     "text": [
      "[nltk_data] Downloading package stopwords to\n",
      "[nltk_data]     C:\\Users\\012457631\\AppData\\Roaming\\nltk_data...\n",
      "[nltk_data]   Package stopwords is already up-to-date!\n"
     ]
    }
   ],
   "source": [
    "#Utilizando StopWords para reduzir e limpar os textos\n",
    "nlp = spacy.load(\"pt_core_news_sm\") # Uso do core do Spacy\n",
    "\n",
    "nltk.download('stopwords') # Download das stopworks do NLTK\n",
    "stopwords = nltk.corpus.stopwords.words('portuguese') # Carregamento das stopwords em português\n",
    "\n",
    "# Caracteres especiais a serem deletados. Sendo unidades de medida e símbolos especiais que não agregam valor a análise\n",
    "filter_out = stopwords + ['kg', 'm', 'cm', 'mm', 'mg', 'ml', 'm²', '-', '+', '=', 'mcg', 'nº', 'g', 'ª', 'º','ja','viu','vai','ne','ai','ta','gente','nao','aqui','tambem','vc','voce','entao','ate','agora','ser','sempre','ter','so','porque','sobre','ainda','la','tudo','ninguem','de','do','da','para','pra']\n",
    "\n",
    "# Função de tratamento\n",
    "def processing_tokenization(sentence):\n",
    "    sentence = sentence.lower() # Caixa baixa\n",
    "    sentence = re.sub(r\"[^\\w\\s]\", \"\",sentence) # Exclusão de caracteres especiais\n",
    "    sentence = re.sub(\"[0-9]+\",\"\", sentence) # Exclusão de dígitos\n",
    "    sentence = re.sub(\"/+\",\"\", sentence) # Exclusão de \"/\"\n",
    "    sentence = re.sub(' +', ' ', sentence) # Exclusão de espaçamentos repetitivos entre as frases\n",
    "\n",
    "    doc=nlp(sentence) # Tokenização\n",
    "\n",
    "    tokens=[token.text for token in doc]\n",
    "    tokens=[token for token in tokens if token not in filter_out] # Filtragem adicional com os caracteres em filter_out\n",
    "\n",
    "    return tokens"
   ]
  },
  {
   "cell_type": "code",
   "execution_count": 13,
   "id": "43dfa611",
   "metadata": {},
   "outputs": [],
   "source": [
    "# Aplicação do tratamento na lista de licitações e salvando os dados\n",
    "itens['DS_ITEM_TRATADO'] = itens['DS_ITEM'].apply(lambda x: processing_tokenization(x))\n",
    "#Passando para a base a coluna tratada\n",
    "itens.to_csv(('C:/Users/012457631/Documents/Cursos_Resumos/Python/itens_tratados_vf.csv'))"
   ]
  },
  {
   "cell_type": "code",
   "execution_count": 22,
   "id": "5728257d",
   "metadata": {},
   "outputs": [],
   "source": [
    "#licitacoes_valores.head(3)"
   ]
  },
  {
   "cell_type": "code",
   "execution_count": 14,
   "id": "0b4ef87d",
   "metadata": {},
   "outputs": [
    {
     "name": "stdout",
     "output_type": "stream",
     "text": [
      "36564\n"
     ]
    }
   ],
   "source": [
    "# Aplicando a função na DS_OBJEO, countvectorizer faz a frequencia normal\n",
    "bow_transformer = CountVectorizer(analyzer=processing_tokenization).fit(itens['DS_ITEM'])\n",
    "# Mostrando o tamanho do vocabulário\n",
    "print(len(bow_transformer.vocabulary_))"
   ]
  },
  {
   "cell_type": "code",
   "execution_count": 15,
   "id": "b697776e",
   "metadata": {},
   "outputs": [],
   "source": [
    "#Vetorização pela frequencia normal\n",
    "messages_bow = bow_transformer.transform(itens['DS_ITEM'])"
   ]
  },
  {
   "cell_type": "code",
   "execution_count": 16,
   "id": "5e56242b",
   "metadata": {},
   "outputs": [
    {
     "name": "stderr",
     "output_type": "stream",
     "text": [
      "100%|██████████████████████████████████████████████████████████████████████████████████| 15/15 [06:51<00:00, 27.40s/it]\n"
     ]
    },
    {
     "data": {
      "image/png": "[encoded data removed]",
      "text/plain": [
       "<Figure size 432x288 with 1 Axes>"
      ]
     },
     "metadata": {
      "needs_background": "light"
     },
     "output_type": "display_data"
    }
   ],
   "source": [
    "#O primeiro modelo a ser analisado é o Kmeans pois podemos ver a quantidade \"razoavel\" de clusters graficamente\n",
    "import warnings\n",
    "warnings.filterwarnings('ignore')\n",
    "\n",
    "wcss = []\n",
    "minimo=2\n",
    "maximo=45\n",
    "step=3\n",
    "\n",
    "for n in tqdm(range(minimo, maximo, step)):\n",
    "    kmeans_model = KMeans(n_clusters=n, init='k-means++', max_iter=500, n_jobs=-1, algorithm='full', precompute_distances=True)\n",
    "    kmeans_model.fit(messages_bow)\n",
    "    wcss.append(kmeans_model.inertia_)\n",
    "\n",
    "# Show graph\n",
    "x = range(minimo, maximo, step)\n",
    "\n",
    "plt.plot(x, wcss)\n",
    "plt.xlabel(\"Num Topic\")\n",
    "plt.ylabel(\"Soma dos quadrados intracluster\")\n",
    "plt.show()"
   ]
  },
  {
   "cell_type": "code",
   "execution_count": 17,
   "id": "33ac864a",
   "metadata": {},
   "outputs": [],
   "source": [
    "kmeans_model = KMeans(n_clusters=14, init='k-means++', verbose=0, n_jobs=-1, algorithm='full', precompute_distances=True, tol=1e-9, max_iter=500)\n",
    "X = kmeans_model.fit(messages_bow)\n",
    "labels=kmeans_model.labels_.tolist()\n",
    "itens['Topicos_kmeans'] = labels\n",
    "itens.to_csv(('C:/Users/012457631/Documents/Cursos_Resumos/Python/itens_kmeans_14.csv'))"
   ]
  },
  {
   "cell_type": "code",
   "execution_count": 18,
   "id": "3acdaf41",
   "metadata": {},
   "outputs": [
    {
     "data": {
      "text/plain": [
       "LatentDirichletAllocation(n_components=14, random_state=42)"
      ]
     },
     "execution_count": 18,
     "metadata": {},
     "output_type": "execute_result"
    }
   ],
   "source": [
    "#Utilizando o modelo LDA para gerar os tópicos\n",
    "from sklearn.decomposition import LatentDirichletAllocation\n",
    "LDA = LatentDirichletAllocation(n_components=14,random_state=42)\n",
    "LDA.fit(messages_bow)"
   ]
  },
  {
   "cell_type": "code",
   "execution_count": 19,
   "id": "9ba80298",
   "metadata": {},
   "outputs": [
    {
     "name": "stdout",
     "output_type": "stream",
     "text": [
      "THE TOP 15 WORDS FOR TOPIC #0\n",
      "['modelo', 'aplicação', 'b', 'condicionado', 'acrílico', 'limpeza', 'selador', 'óleo', 'fundo', 'ano', 'exame', 'motor', 'exames', 'filtro', 'ar']\n",
      "\n",
      "\n",
      "THE TOP 15 WORDS FOR TOPIC #1\n",
      "['esmalte', 'cor', 'madeira', 'telha', 'incluso', 'af', 'pintura', 'mão', 'n', 'placa', '_', 'aço', 'galvanizado', 'chapa', 'obra']\n",
      "\n",
      "\n",
      "THE TOP 15 WORDS FOR TOPIC #2\n",
      "['reaproveitamento', 'remoção', 'aço', '_', 'af', 'validade', 'data', 'acrílica', 'duas', 'tinta', 'forma', 'aplicação', 'pintura', 'embalagem', 'manual']\n",
      "\n",
      "\n",
      "THE TOP 15 WORDS FOR TOPIC #3\n",
      "['convencional', 'bloco', 'concreto', 'estrutura', 'utilizando', 'montagem', 'armação', 'viga', 'ca', 'tipo', 'aço', 'fornecimento', 'instalação', '_', 'af']\n",
      "\n",
      "\n",
      "THE TOP 15 WORDS FOR TOPIC #4\n",
      "['fio', 'c', 'antichama', 'fita', 'metros', 'isolado', 'caixa', 'cor', 'flexível', 'tipo', 'mm²', 'cobre', 'v', 'cabo', 'x']\n",
      "\n",
      "\n",
      "THE TOP 15 WORDS FOR TOPIC #5\n",
      "['tipo', 'papel', 'litros', 'unidades', 'deve', 'entrega', 'qualidade', 'mínima', 'produto', 'data', 'meses', 'cor', 'mínimo', 'validade', 'embalagem']\n",
      "\n",
      "\n",
      "THE TOP 15 WORDS FOR TOPIC #6\n",
      "['embalagem', 'descartável', 'título', 'infantil', 'letras', 'narrativa', 'ficção', 'companhia', 'autor', 'obra', 'assunto', 'brochura', 'editora', 'capa', 'livro']\n",
      "\n",
      "\n",
      "THE TOP 15 WORDS FOR TOPIC #7\n",
      "['in', 'fck', 'simples', 'tubo', 'diâmetro', 'armado', 'mpa', 'base', 'espessura', 'execução', '_', 'brita', 'af', 'piso', 'concreto']\n",
      "\n",
      "\n",
      "THE TOP 15 WORDS FOR TOPIC #8\n",
      "['unidade', 'base', 'altura', 'material', 'urbana', 'af', '_', 'dmt', 'via', 'pneu', 'basculante', 'km', 'caminhão', 'transporte', 'x']\n",
      "\n",
      "\n",
      "THE TOP 15 WORDS FOR TOPIC #9\n",
      "['sanitário', 'predial', 'x', 'soldável', 'ramal', '_', 'água', 'af', 'fornecimento', 'instalação', 'esgoto', 'tubo', 'instalado', 'dn', 'pvc']\n",
      "\n",
      "\n",
      "THE TOP 15 WORDS FOR TOPIC #10\n",
      "['massa', 'c', 'cimento', 'tampa', 'concreto', 'af', 'caixa', '_', 'betoneira', 'espessura', 'l', 'traço', 'alvenaria', 'preparo', 'argamassa']\n",
      "\n",
      "\n",
      "THE TOP 15 WORDS FOR TOPIC #11\n",
      "['categoria', 'acabamento', 'adensamento', 'solução', 'hp', 'uso', 'manual', 'lançamento', 'mgml', 'carga', 'solo', 'vala', '_', 'af', 'escavação']\n",
      "\n",
      "\n",
      "THE TOP 15 WORDS FOR TOPIC #12\n",
      "['técnicafornecimento', 'pvc', 'acessórios', 'técnicaremoção', 'instalação', 'cotação', 'documentação', 'reforma', 'demais', 'especificações', 'eou', 'construção', 'referência', 'conforme', 'termo']\n",
      "\n",
      "\n",
      "THE TOP 15 WORDS FOR TOPIC #13\n",
      "['projeto', 'fôrma', 'montagem', 'pavimentação', 'fabricação', 'rua', 'obra', 'madeira', 'execução', 'desmontagem', 'r', 'contratação', 'serviço', 'empresa', 'serviços']\n",
      "\n",
      "\n"
     ]
    }
   ],
   "source": [
    "#Função que retorna as 15 palavras mais importantes por tópico\n",
    "for index,topic in enumerate(LDA.components_):\n",
    "    print(f'THE TOP 15 WORDS FOR TOPIC #{index}')\n",
    "    print([bow_transformer.get_feature_names()[i] for i in topic.argsort()[-15:]])\n",
    "    print('\\n')"
   ]
  },
  {
   "cell_type": "code",
   "execution_count": 20,
   "id": "086dc560",
   "metadata": {},
   "outputs": [],
   "source": [
    "topic_results = LDA.transform(messages_bow)\n",
    "itens['Topicos_LDA'] = topic_results.argmax(axis=1)\n",
    "itens.to_csv(('C:/Users/012457631/Documents/Cursos_Resumos/Python/itens_valores_LDA_14.csv'))\n"
   ]
  },
  {
   "cell_type": "code",
   "execution_count": 21,
   "id": "45f4f429",
   "metadata": {},
   "outputs": [
    {
     "data": {
      "text/plain": [
       "NMF(n_components=14, random_state=42)"
      ]
     },
     "execution_count": 21,
     "metadata": {},
     "output_type": "execute_result"
    }
   ],
   "source": [
    "#Utilizano o modelo NMF para uma nova separação de tópicos\n",
    "from sklearn.decomposition import NMF\n",
    "nmf_model = NMF(n_components=14,random_state=42)\n",
    "nmf_model.fit(messages_bow)"
   ]
  },
  {
   "cell_type": "code",
   "execution_count": 22,
   "id": "d83b89d6",
   "metadata": {},
   "outputs": [
    {
     "name": "stdout",
     "output_type": "stream",
     "text": [
      "THE TOP 15 WORDS FOR TOPIC #0\n",
      "['xcm', 'xmm', 'técnicafornecimento', 'acessórios', 'técnicaremoção', 'cotação', 'documentação', 'construção', 'reforma', 'especificações', 'demais', 'eou', 'referência', 'conforme', 'termo']\n",
      "\n",
      "\n",
      "THE TOP 15 WORDS FOR TOPIC #1\n",
      "['águas', 'nível', 'menor', 'instalado', 'fôrma', 'forma', 'vala', 'escavação', 'solo', 'acabamento', 'incluso', 'madeira', 'manual', 'af', '_']\n",
      "\n",
      "\n",
      "THE TOP 15 WORDS FOR TOPIC #2\n",
      "['meiofio', 'trecho', 'reto', 'guia', 'placa', 'medindo', 'inferior', 'largura', 'superior', 'caixa', 'comprimento', 'altura', 'base', 'dimensões', 'x']\n",
      "\n",
      "\n",
      "THE TOP 15 WORDS FOR TOPIC #3\n",
      "['prazo', 'contar', 'mínima', 'identificação', 'informações', 'deve', 'fabricação', 'ingredientes', 'peso', 'produto', 'meses', 'entrega', 'data', 'validade', 'embalagem']\n",
      "\n",
      "\n",
      "THE TOP 15 WORDS FOR TOPIC #4\n",
      "['junta', 'descarga', 'sanitário', 'serie', 'normal', 'fornecido', 'predial', 'soldável', 'água', 'tubo', 'esgoto', 'instalado', 'ramal', 'dn', 'pvc']\n",
      "\n",
      "\n",
      "THE TOP 15 WORDS FOR TOPIC #5\n",
      "['letrinhas', 'infantil', 'literatura', 'título', 'letras', 'narrativa', 'ficção', 'companhia', 'autor', 'assunto', 'brochura', 'editora', 'capa', 'livro', 'obra']\n",
      "\n",
      "\n",
      "THE TOP 15 WORDS FOR TOPIC #6\n",
      "['baldrame', 'térrea', 'edificação', 'sobrado', 'pilar', 'convencional', 'estrutura', 'armado', 'utilizando', 'montagem', 'viga', 'concreto', 'armação', 'ca', 'aço']\n",
      "\n",
      "\n",
      "THE TOP 15 WORDS FOR TOPIC #7\n",
      "['suporte', 'dn', 'incluindo', 'isolado', 'mm²', 'eletroduto', 'circuitos', 'placa', '\\t\\t', 'terminais', 'cobre', 'cabo', 'flexível', 'fornecimento', 'instalação']\n",
      "\n",
      "\n",
      "THE TOP 15 WORDS FOR TOPIC #8\n",
      "['fita', 'branco', 'superior', 'capacidade', 'chapa', 'deverá', 'aço', 'portas', 'deve', 'sistema', 'mínima', 'espessura', 'possuir', 'cor', 'mínimo']\n",
      "\n",
      "\n",
      "THE TOP 15 WORDS FOR TOPIC #9\n",
      "['cimento', 'areia', 'vãos', 'paredes', 'aplicado', 'execução', 'mecânico', 'alvenaria', 'l', 'betoneira', 'traço', 'espessura', 'argamassa', 'preparo', 'concreto']\n",
      "\n",
      "\n",
      "THE TOP 15 WORDS FOR TOPIC #10\n",
      "['passageiros', 'chassi', 'seguro', 'rcfdanos', 'placa', 'franquia', 'passageiro', 'materiais', 'empresa', 'serviços', 'vidros', 'contratação', 'veículo', 'danos', 'r']\n",
      "\n",
      "\n",
      "THE TOP 15 WORDS FOR TOPIC #11\n",
      "['fundo', 'acabamento', 'branca', 'esmalte', 'madeira', 'látex', 'paredes', 'duas', 'acrílica', 'demãos', 'aplicação', 'manual', 'cor', 'tinta', 'pintura']\n",
      "\n",
      "\n",
      "THE TOP 15 WORDS FOR TOPIC #12\n",
      "['excedente', 'descarga', 'material', 'carga', 'mxkm', 'pavimentada', 'unidade', 'urbana', 'm³', 'dmt', 'via', 'km', 'basculante', 'caminhão', 'transporte']\n",
      "\n",
      "\n",
      "THE TOP 15 WORDS FOR TOPIC #13\n",
      "['disjuntor', 'ambientes', 'nominal', 'área', 'pacote', 'esmaltada', 'embalagem', 'corrente', 'dimensões', 'revestimento', 'cerâmico', 'c', 'placas', 'material', 'tipo']\n",
      "\n",
      "\n"
     ]
    }
   ],
   "source": [
    "for index,topic in enumerate(nmf_model.components_):\n",
    "    print(f'THE TOP 15 WORDS FOR TOPIC #{index}')\n",
    "    print([bow_transformer.get_feature_names()[i] for i in topic.argsort()[-15:]])\n",
    "    print('\\n')"
   ]
  },
  {
   "cell_type": "code",
   "execution_count": 23,
   "id": "56e4b42b",
   "metadata": {},
   "outputs": [],
   "source": [
    "topic_resultsNMF = nmf_model.transform(messages_bow)\n",
    "itens['Topicos_NMF'] = topic_resultsNMF.argmax(axis=1)\n",
    "itens.to_csv(('C:/Users/012457631/Documents/Cursos_Resumos/Python/itens_LDA_NMF_14.csv'))"
   ]
  },
  {
   "cell_type": "code",
   "execution_count": 33,
   "id": "27237450",
   "metadata": {},
   "outputs": [],
   "source": [
    "#licitacoes_valores.head(3)"
   ]
  },
  {
   "cell_type": "code",
   "execution_count": 24,
   "id": "2accfe78",
   "metadata": {},
   "outputs": [],
   "source": [
    "#Com os 2 modelos salvos na base veremos como ficariam os seus respectivos tópicos utilizando a frequencia inversa TFIDF para vetorização\n",
    "def identity_tokenizer(text):\n",
    "    return text\n",
    "vectorizer = TfidfVectorizer(min_df = 30, lowercase=False, tokenizer=identity_tokenizer)\n",
    "tfidf = vectorizer.fit_transform(itens['DS_ITEM_TRATADO'])"
   ]
  },
  {
   "cell_type": "code",
   "execution_count": 25,
   "id": "474b91fd",
   "metadata": {},
   "outputs": [
    {
     "name": "stderr",
     "output_type": "stream",
     "text": [
      "100%|██████████████████████████████████████████████████████████████████████████████████| 15/15 [02:08<00:00,  8.60s/it]\n"
     ]
    },
    {
     "data": {
      "image/png": "[encoded data removed]",
      "text/plain": [
       "<Figure size 432x288 with 1 Axes>"
      ]
     },
     "metadata": {
      "needs_background": "light"
     },
     "output_type": "display_data"
    }
   ],
   "source": [
    "#O primeiro modelo a ser analisado é o Kmeans pois podemos ver a quantidade \"razoavel\" de clusters graficamente\n",
    "import warnings\n",
    "warnings.filterwarnings('ignore')\n",
    "\n",
    "wcss = []\n",
    "minimo=2\n",
    "maximo=45\n",
    "step=3\n",
    "\n",
    "for n in tqdm(range(minimo, maximo, step)):\n",
    "    kmeans_model = KMeans(n_clusters=n, init='k-means++', max_iter=500, n_jobs=-1, algorithm='full', precompute_distances=True)\n",
    "    kmeans_model.fit(tfidf)\n",
    "    wcss.append(kmeans_model.inertia_)\n",
    "\n",
    "# Show graph\n",
    "x = range(minimo, maximo, step)\n",
    "\n",
    "plt.plot(x, wcss)\n",
    "plt.xlabel(\"Num Topic\")\n",
    "plt.ylabel(\"Soma dos quadrados intracluster\")\n",
    "plt.show()"
   ]
  },
  {
   "cell_type": "code",
   "execution_count": 26,
   "id": "40bb56c8",
   "metadata": {},
   "outputs": [],
   "source": [
    "kmeans_model = KMeans(n_clusters=16, init='k-means++', verbose=0, n_jobs=-1, algorithm='full', precompute_distances=True, tol=1e-9, max_iter=500)\n",
    "X = kmeans_model.fit(tfidf)\n",
    "labels=kmeans_model.labels_.tolist()\n",
    "itens['Topicos_kmeans'] = labels\n",
    "itens.to_csv(('C:/Users/012457631/Documents/Cursos_Resumos/Python/itens_kmeans_16.csv'))"
   ]
  },
  {
   "cell_type": "code",
   "execution_count": 27,
   "id": "5abf9ec0",
   "metadata": {},
   "outputs": [
    {
     "data": {
      "text/plain": [
       "LatentDirichletAllocation(n_components=16, random_state=42)"
      ]
     },
     "execution_count": 27,
     "metadata": {},
     "output_type": "execute_result"
    }
   ],
   "source": [
    "#Utilizando o modelo LDA para gerar os tópicos\n",
    "LDA = LatentDirichletAllocation(n_components=16,random_state=42)\n",
    "LDA.fit(tfidf)"
   ]
  },
  {
   "cell_type": "code",
   "execution_count": 28,
   "id": "dcf028a4",
   "metadata": {},
   "outputs": [
    {
     "name": "stdout",
     "output_type": "stream",
     "text": [
      "THE TOP 15 WORDS FOR TOPIC #0\n",
      "['in', 'loco', 'espessura', 'janela', 'inox', 'porta', 'alumínio', 'concreto', 'cor', 'piso', 'vidro', 'barra', 'idosos', 'abrigo', 'x']\n",
      "\n",
      "\n",
      "THE TOP 15 WORDS FOR TOPIC #1\n",
      "['uso', 'pneus', 'mínimo', 'reto', 'base', 'conserto', 'lonas', 'c', 'recapagem', 'guia', 'frasco', 'meiofio', 'r', 'x', 'pneu']\n",
      "\n",
      "\n",
      "THE TOP 15 WORDS FOR TOPIC #2\n",
      "['fck', 'categoria', 'solo', 'concretagem', 'bomba', 'bucha', 'uso', 'acabamento', 'jogo', 'vala', 'escavação', 'locação', 'adensamento', 'parafuso', 'lançamento']\n",
      "\n",
      "\n",
      "THE TOP 15 WORDS FOR TOPIC #3\n",
      "['interruptor', 'fio', 'antichama', 'x', 'suporte', 'v', 'isolado', 'tomada', 'flexível', 'fornecimento', 'cobre', 'mm²', 'instalação', 'placa', 'cabo']\n",
      "\n",
      "\n",
      "THE TOP 15 WORDS FOR TOPIC #4\n",
      "['unidades', 'título', 'letras', 'papel', 'narrativa', 'tamanho', 'companhia', 'ficção', 'obra', 'assunto', 'brochura', 'autor', 'editora', 'capa', 'livro']\n",
      "\n",
      "\n",
      "THE TOP 15 WORDS FOR TOPIC #5\n",
      "['af', 'demãos', 'dmt', 'paredes', 'acrílica', 'comprimido', 'basculante', '_', 'manual', 'caminhão', 'km', 'tinta', 'aplicação', 'pintura', 'transporte']\n",
      "\n",
      "\n",
      "THE TOP 15 WORDS FOR TOPIC #6\n",
      "['pacote', 'cor', 'peso', 'produto', 'qualidade', 'entrega', 'gramas', 'gr', 'mínimo', 'tipo', 'mínima', 'meses', 'data', 'validade', 'embalagem']\n",
      "\n",
      "\n",
      "THE TOP 15 WORDS FOR TOPIC #7\n",
      "['oral', 'ampola', 'br', 'frasco', 'base', 'óleo', 'injetável', 'brita', 'solução', 'cloridrato', 'filtro', 'livros', 'diversos', 'mgml', 'exames']\n",
      "\n",
      "\n",
      "THE TOP 15 WORDS FOR TOPIC #8\n",
      "['placa', 'estrutura', '_', 'pilar', 'armado', 'af', 'madeira', 'baldrame', 'concreto', 'utilizando', 'armação', 'montagem', 'viga', 'ca', 'aço']\n",
      "\n",
      "\n",
      "THE TOP 15 WORDS FOR TOPIC #9\n",
      "['ømm', 'instalação', 'técnicafornecimento', 'acessórios', 'técnicaremoção', 'especificações', 'cotação', 'documentação', 'construção', 'reforma', 'demais', 'eou', 'conforme', 'referência', 'termo']\n",
      "\n",
      "\n",
      "THE TOP 15 WORDS FOR TOPIC #10\n",
      "['mangueira', 'adulto', 'incêndio', 'latão', 'bruto', 'instalação', 'veiculo', 'fornecimento', 'condicionado', 'extintor', 'filtro', 'reservatório', 'gaveta', 'registro', 'ar']\n",
      "\n",
      "\n",
      "THE TOP 15 WORDS FOR TOPIC #11\n",
      "['serviço', 'descarga', 'fibrocimento', 'metálica', 'execução', 'pavimentação', 'material', 'empresa', 'obras', 'contratação', 'carga', 'telha', 'mão', 'obra', 'serviços']\n",
      "\n",
      "\n",
      "THE TOP 15 WORDS FOR TOPIC #12\n",
      "['predial', 'af', '_', 'disjuntor', 'água', 'joelho', 'ramal', 'instalado', 'tubo', 'fornecimento', 'instalação', 'soldável', 'esgoto', 'dn', 'pvc']\n",
      "\n",
      "\n",
      "THE TOP 15 WORDS FOR TOPIC #13\n",
      "['cerâmicos', 'cp', 'xx', 'tampa', 'vedação', 'xxcm', 'diâmetro', 'blocos', 'broca', 'assentamento', 'caixa', 'tubo', 'alvenaria', 'concreto', 'exame']\n",
      "\n",
      "\n",
      "THE TOP 15 WORDS FOR TOPIC #14\n",
      "['cerâmico', 'lastro', 'espessura', 'remoção', 'reaproveitamento', 'piso', 'areia', 'forma', 'preparo', '_', 'argamassa', 'traço', 'af', 'manual', 'concreto']\n",
      "\n",
      "\n",
      "THE TOP 15 WORDS FOR TOPIC #15\n",
      "['condulete', 'metal', 'flexível', 'sobrepor', 'lâmpada', 'corrugado', 'tipo', 'instalação', 'luminária', 'fornecimento', 'torneira', 'eletroduto', 'led', 'w', 'livro']\n",
      "\n",
      "\n"
     ]
    }
   ],
   "source": [
    "#Função que retorna as 15 palavras mais importantes por tópico\n",
    "for index,topic in enumerate(LDA.components_):\n",
    "    print(f'THE TOP 15 WORDS FOR TOPIC #{index}')\n",
    "    print([vectorizer.get_feature_names()[i] for i in topic.argsort()[-15:]])\n",
    "    print('\\n')"
   ]
  },
  {
   "cell_type": "code",
   "execution_count": 29,
   "id": "d93e7e70",
   "metadata": {},
   "outputs": [],
   "source": [
    "topic_results_tfidf_LDA = LDA.transform(tfidf)\n",
    "itens['Topicos_tfidf_LDA'] = topic_results_tfidf_LDA.argmax(axis=1)\n",
    "itens.to_csv(('C:/Users/012457631/Documents/Cursos_Resumos/Python/itens_tfidf_kmeans_LDA_16.csv'))"
   ]
  },
  {
   "cell_type": "code",
   "execution_count": 30,
   "id": "ce0b76bc",
   "metadata": {},
   "outputs": [
    {
     "data": {
      "text/plain": [
       "NMF(n_components=16, random_state=42)"
      ]
     },
     "execution_count": 30,
     "metadata": {},
     "output_type": "execute_result"
    }
   ],
   "source": [
    "#Utilizano o modelo NMF para uma nova separação de tópicos\n",
    "nmf_model = NMF(n_components=16,random_state=42)\n",
    "nmf_model.fit(tfidf)"
   ]
  },
  {
   "cell_type": "code",
   "execution_count": 31,
   "id": "e763a2d0",
   "metadata": {
    "scrolled": false
   },
   "outputs": [
    {
     "name": "stdout",
     "output_type": "stream",
     "text": [
      "THE TOP 15 WORDS FOR TOPIC #0\n",
      "['ømm', 'técnicaplaca', 'técnicafornecimento', 'acessórios', 'técnicaremoção', 'construção', 'eou', 'especificações', 'reforma', 'documentação', 'cotação', 'demais', 'conforme', 'referência', 'termo']\n",
      "\n",
      "\n",
      "THE TOP 15 WORDS FOR TOPIC #1\n",
      "['junta', 'fornecido', 'graus', 'serie', 'normal', 'predial', 'água', 'joelho', 'ramal', 'instalado', 'soldável', 'tubo', 'esgoto', 'dn', 'pvc']\n",
      "\n",
      "\n",
      "THE TOP 15 WORDS FOR TOPIC #2\n",
      "['letrinhas', 'infantil', 'literatura', 'título', 'letras', 'narrativa', 'companhia', 'ficção', 'obra', 'capa', 'assunto', 'autor', 'brochura', 'editora', 'livro']\n",
      "\n",
      "\n",
      "THE TOP 15 WORDS FOR TOPIC #3\n",
      "['edificação', 'térrea', 'baldrame', 'sobrado', 'concreto', 'convencional', 'estrutura', 'pilar', 'armado', 'montagem', 'utilizando', 'viga', 'aço', 'ca', 'armação']\n",
      "\n",
      "\n",
      "THE TOP 15 WORDS FOR TOPIC #4\n",
      "['profundidade', 'mecanizada', 'remoção', 'cerâmico', 'igual', 'demolição', 'solo', 'menor', 'vala', 'reaproveitamento', 'forma', 'escavação', 'manual', 'af', '_']\n",
      "\n",
      "\n",
      "THE TOP 15 WORDS FOR TOPIC #5\n",
      "['branca', 'guia', 'papel', 'c', 'tamanho', 'cor', 'retangular', 'comprimento', 'base', 'altura', 'piso', 'dimensões', 'pneu', 'caixa', 'x']\n",
      "\n",
      "\n",
      "THE TOP 15 WORDS FOR TOPIC #6\n",
      "['pt', 'módulo', 'monopolar', 'af', 'embutir', 'tomada', 'incluindo', 'nominal', 'din', 'corrente', 'suporte', 'disjuntor', 'tipo', 'fornecimento', 'instalação']\n",
      "\n",
      "\n",
      "THE TOP 15 WORDS FOR TOPIC #7\n",
      "['brita', 'excedente', 'carga', 'material', 'mxkm', 'unidade', 'pavimentada', 'm³', 'urbana', 'via', 'dmt', 'km', 'basculante', 'caminhão', 'transporte']\n",
      "\n",
      "\n",
      "THE TOP 15 WORDS FOR TOPIC #8\n",
      "['teto', 'acrílico', 'selador', 'demão', 'esmalte', 'fundo', 'manual', 'látex', 'duas', 'paredes', 'acrílica', 'demãos', 'aplicação', 'tinta', 'pintura']\n",
      "\n",
      "\n",
      "THE TOP 15 WORDS FOR TOPIC #9\n",
      "['antigeno', 'hormonio', 'livre', 'creatinina', 'acido', 'dosagem', 'tempo', 'ecodopler', 'igm', 'igg', 'total', 'colesterol', 't', 'ecografia', 'exame']\n",
      "\n",
      "\n",
      "THE TOP 15 WORDS FOR TOPIC #10\n",
      "['construcao', 'calha', 'sinalização', 'adesivada', 'civil', 'n', 'suporte', 'galvanizada', 'aco', 'mão', 'aço', 'chapa', 'galvanizado', 'placa', 'obra']\n",
      "\n",
      "\n",
      "THE TOP 15 WORDS FOR TOPIC #11\n",
      "['fornecimento', 'distribuição', 'eletroduto', 'fio', 'flexivel', 'kv', 'terminais', 'circuitos', 'v', 'antichama', 'isolado', 'flexível', 'cobre', 'mm²', 'cabo']\n",
      "\n",
      "\n",
      "THE TOP 15 WORDS FOR TOPIC #12\n",
      "['ingredientes', 'diversos', 'produto', 'contar', 'fabricação', 'peso', 'unidades', 'mínimo', 'mínima', 'entrega', 'meses', 'tipo', 'data', 'validade', 'embalagem']\n",
      "\n",
      "\n",
      "THE TOP 15 WORDS FOR TOPIC #13\n",
      "['chapa', 'pédireito', 'pilares', 'compensada', 'baldrame', 'porta', 'viga', 'forma', 'utilizações', 'fabricação', 'serrada', 'montagem', 'fôrma', 'desmontagem', 'madeira']\n",
      "\n",
      "\n",
      "THE TOP 15 WORDS FOR TOPIC #14\n",
      "['gama', 'calcio', 'potassio', 'alcalina', 'ac', 'curva', 'grupo', 'hepatite', 'rubeola', 'glicose', 'ferro', 'hormonio', 'fator', 'c', 'exames']\n",
      "\n",
      "\n",
      "THE TOP 15 WORDS FOR TOPIC #15\n",
      "['brita', 'execução', 'piso', 'cimento', 'areia', 'mecânico', 'l', 'fck', 'espessura', 'mpa', 'betoneira', 'argamassa', 'traço', 'preparo', 'concreto']\n",
      "\n",
      "\n"
     ]
    }
   ],
   "source": [
    "#Função que retorna as 15 palavras mais importantes por tópico\n",
    "for index,topic in enumerate(nmf_model.components_):\n",
    "    print(f'THE TOP 15 WORDS FOR TOPIC #{index}')\n",
    "    print([vectorizer.get_feature_names()[i] for i in topic.argsort()[-15:]])\n",
    "    print('\\n')"
   ]
  },
  {
   "cell_type": "code",
   "execution_count": 32,
   "id": "fe29ec35",
   "metadata": {},
   "outputs": [],
   "source": [
    "topic_results_tfidf_NMF = nmf_model.transform(tfidf)\n",
    "itens['Topicos_tfidf_NMF'] = topic_results_tfidf_NMF.argmax(axis=1)\n",
    "itens.to_csv(('C:/Users/012457631/Documents/Cursos_Resumos/Python/itens_tfidf_kmeans_LDA_NMF_16.csv'))"
   ]
  },
  {
   "cell_type": "code",
   "execution_count": 43,
   "id": "cc4ee557",
   "metadata": {},
   "outputs": [],
   "source": [
    "#Inserção das bases para analises\n",
    "ItensVF = pd.read_excel('C:/Users/012457631/Documents/AnaliseLicitacoes/ItensVS.xlsx')\n",
    "ItensRenomeados = pd.read_excel('C:/Users/012457631/Documents/AnaliseLicitacoes/Itens_renomeados.xlsx')\n",
    "BaseItens=pd.merge(ItensVF,ItensRenomeados,how='inner',on='Topicos_kmeans')"
   ]
  },
  {
   "cell_type": "code",
   "execution_count": 44,
   "id": "268f3415",
   "metadata": {},
   "outputs": [],
   "source": [
    "#Gerando as culunas de ANO E MES\n",
    "from datetime import datetime\n",
    "BaseItens['DT_REF_VALOR_ESTIMADO'] =  pd.to_datetime(BaseItens['DT_REF_VALOR_ESTIMADO'], format='%d/%m/%Y')\n",
    "BaseItens['ANO'] = BaseItens['DT_REF_VALOR_ESTIMADO'].dt.year\n",
    "BaseItens['MES'] = BaseItens['DT_REF_VALOR_ESTIMADO'].dt.month"
   ]
  },
  {
   "cell_type": "code",
   "execution_count": 45,
   "id": "2439dbe6",
   "metadata": {},
   "outputs": [
    {
     "data": {
      "text/plain": [
       "<AxesSubplot:xlabel='MES', ylabel='count'>"
      ]
     },
     "execution_count": 45,
     "metadata": {},
     "output_type": "execute_result"
    },
    {
     "data": {
      "image/png": "[encoded data removed]",
      "text/plain": [
       "<Figure size 432x288 with 1 Axes>"
      ]
     },
     "metadata": {
      "needs_background": "light"
     },
     "output_type": "display_data"
    }
   ],
   "source": [
    "#Gráfico visão geral por mes\n",
    "sns.countplot(x='MES',data=BaseItens)\n",
    "#Podemos observar que Abril teve maior quantidade de solicitações"
   ]
  },
  {
   "cell_type": "code",
   "execution_count": 56,
   "id": "3c2d5c07",
   "metadata": {},
   "outputs": [
    {
     "data": {
      "text/plain": [
       "MES\n",
       "1     1.904766e+07\n",
       "2     5.967160e+08\n",
       "3     3.359126e+08\n",
       "4     1.877003e+07\n",
       "5     1.164182e+08\n",
       "6     2.254636e+07\n",
       "7     2.118527e+07\n",
       "8     2.994339e+07\n",
       "9     2.712718e+07\n",
       "10    2.510897e+07\n",
       "11    1.324639e+07\n",
       "12    2.186791e+07\n",
       "Name: VL_TOTAL_HOMOLOGADO, dtype: float64"
      ]
     },
     "execution_count": 56,
     "metadata": {},
     "output_type": "execute_result"
    }
   ],
   "source": [
    "BaseItens.groupby('MES').mean()['VL_TOTAL_HOMOLOGADO'].head(12)\n",
    "#Agora se tratando de valor monetário (médio), fevereiro foi o mes com maior gasto"
   ]
  },
  {
   "cell_type": "code",
   "execution_count": 54,
   "id": "aef51c07",
   "metadata": {},
   "outputs": [
    {
     "data": {
      "text/plain": [
       "<matplotlib.legend.Legend at 0x2bcb9773640>"
      ]
     },
     "execution_count": 54,
     "metadata": {},
     "output_type": "execute_result"
    },
    {
     "data": {
      "image/png": "[encoded data removed]",
      "text/plain": [
       "<Figure size 432x288 with 1 Axes>"
      ]
     },
     "metadata": {
      "needs_background": "light"
     },
     "output_type": "display_data"
    }
   ],
   "source": [
    "#Gráfico por mes com a segmentação motivo\n",
    "sns.countplot(x='MES',data=BaseItens,hue='Item',palette='coolwarm')\n",
    "# To relocate the legend\n",
    "plt.legend(bbox_to_anchor=(1.05, 1.05), loc=2, borderaxespad=0.)"
   ]
  },
  {
   "cell_type": "code",
   "execution_count": 55,
   "id": "bdfebe8c",
   "metadata": {},
   "outputs": [
    {
     "data": {
      "text/plain": [
       "Material hospitalar                                                          54221\n",
       "Materiais para reformas internas                                              5476\n",
       "Montagem e desmontagem relacionadadas de estruturas de alvenaria/ceramica     5237\n",
       "Material para concreto                                                        5058\n",
       "Material para iluminação(luminaria, interrupitor...)                          3821\n",
       "Alimentos                                                                     3298\n",
       "Material para obras de tubulação                                              3166\n",
       "Uniforme/Material escolar                                                     2665\n",
       "Livros                                                                        2288\n",
       "Material para pintura                                                         2051\n",
       "Material elétrico                                                             1614\n",
       "Armação para pilar/viga                                                       1358\n",
       "Revestimento asfáltico                                                        1246\n",
       "Material para pavimentação                                                    1000\n",
       "Cabo de cobre flexivel                                                         776\n",
       "Name: Item, dtype: int64"
      ]
     },
     "execution_count": 55,
     "metadata": {},
     "output_type": "execute_result"
    }
   ],
   "source": [
    "#Como esperado pelo gráfico acima \"Material hospitalar\" foi o item mais solicitado, fato também comprovado abaixo\n",
    "BaseItens['Item'].value_counts().head(16)"
   ]
  },
  {
   "cell_type": "code",
   "execution_count": null,
   "id": "3263f93c",
   "metadata": {},
   "outputs": [],
   "source": [
    "#Conclusões Gerais:\n",
    "#O modelo com melhor tratamento e divisão de dados foi o de bag of word + Kmeans\n",
    "#Nesse estudo repartimos os dados em 16 clusters com boa diferenciabilidade entre si\n",
    "#Como esperado a maioria dos itens estão relacionados a obras"
   ]
  }
 ],
 "metadata": {
  "kernelspec": {
   "display_name": "Python 3",
   "language": "python",
   "name": "python3"
  },
  "language_info": {
   "codemirror_mode": {
    "name": "ipython",
    "version": 3
   },
   "file_extension": ".py",
   "mimetype": "text/x-python",
   "name": "python",
   "nbconvert_exporter": "python",
   "pygments_lexer": "ipython3",
   "version": "3.8.8"
  }
 },
 "nbformat": 4,
 "nbformat_minor": 5
}
